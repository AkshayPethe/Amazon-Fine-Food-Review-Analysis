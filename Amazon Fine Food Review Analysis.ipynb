{
 "cells": [
  {
   "cell_type": "markdown",
   "id": "838a1329",
   "metadata": {},
   "source": [
    "### Amazon Fine Food Review Analysis"
   ]
  },
  {
   "cell_type": "markdown",
   "id": "cd875bf3",
   "metadata": {},
   "source": [
    "Objective: Determine the review is either positive (4 or 5) or Negative (1 or 2) or Neutral (3) "
   ]
  },
  {
   "cell_type": "code",
   "execution_count": 1,
   "id": "db021382",
   "metadata": {},
   "outputs": [
    {
     "name": "stderr",
     "output_type": "stream",
     "text": [
      "[nltk_data] Downloading package punkt to\n",
      "[nltk_data]     C:\\Users\\asus\\AppData\\Roaming\\nltk_data...\n",
      "[nltk_data]   Package punkt is already up-to-date!\n",
      "[nltk_data] Downloading package stopwords to\n",
      "[nltk_data]     C:\\Users\\asus\\AppData\\Roaming\\nltk_data...\n",
      "[nltk_data]   Package stopwords is already up-to-date!\n",
      "[nltk_data] Downloading package wordnet to\n",
      "[nltk_data]     C:\\Users\\asus\\AppData\\Roaming\\nltk_data...\n",
      "[nltk_data]   Package wordnet is already up-to-date!\n"
     ]
    },
    {
     "data": {
      "text/plain": [
       "True"
      ]
     },
     "execution_count": 1,
     "metadata": {},
     "output_type": "execute_result"
    }
   ],
   "source": [
    "import pandas as pd\n",
    "import numpy as np\n",
    "import matplotlib.pyplot as plt\n",
    "import seaborn as sns\n",
    "import warnings\n",
    "warnings.filterwarnings('ignore')\n",
    "\n",
    "\n",
    "# As we are dealing with a huge dataset which usually comes in Sequel Lite Database.Therefore,\n",
    "import sqlite3\n",
    "\n",
    "#As the Project is on Natural Language Processing\n",
    "import nltk\n",
    "import string\n",
    "\n",
    "# NLP feature Extraction\n",
    "from sklearn.feature_extraction.text import CountVectorizer,TfidfVectorizer,TfidfTransformer\n",
    "\n",
    "#For NLP preprocessing\n",
    "from nltk.stem.wordnet import WordNetLemmatizer\n",
    "from nltk.stem.porter import PorterStemmer\n",
    "\n",
    "from nltk.corpus import stopwords,words\n",
    "nltk.download('punkt')\n",
    "nltk.download('stopwords')\n",
    "nltk.download('wordnet')\n",
    "\n",
    "\n"
   ]
  },
  {
   "cell_type": "markdown",
   "id": "fb663f4f",
   "metadata": {},
   "source": [
    "### Reading Data"
   ]
  },
  {
   "cell_type": "markdown",
   "id": "65424322",
   "metadata": {},
   "source": [
    "##### As this is Sequel Database it cannot be directly called by pandas firts the SQL Connection needs to happen\n",
    "##### Connecting to SQl"
   ]
  },
  {
   "cell_type": "code",
   "execution_count": 2,
   "id": "f8388df9",
   "metadata": {},
   "outputs": [
    {
     "data": {
      "text/plain": [
       "<sqlite3.Connection at 0x16a356a4120>"
      ]
     },
     "execution_count": 2,
     "metadata": {},
     "output_type": "execute_result"
    }
   ],
   "source": [
    "con = sqlite3.connect('database.sqlite')\n",
    "con"
   ]
  },
  {
   "cell_type": "markdown",
   "id": "f8672ebe",
   "metadata": {},
   "source": [
    "#### Fetching the required Data from SQL\n",
    "#### As we only want postive and negative reviews.ThereFore,"
   ]
  },
  {
   "cell_type": "code",
   "execution_count": 3,
   "id": "7800cc26",
   "metadata": {},
   "outputs": [],
   "source": [
    "\n",
    "filtered_data = pd.read_sql_query(\"\"\"SELECT * FROM REVIEWS WHERE Score !=3 LIMIT 50000\"\"\",con)"
   ]
  },
  {
   "cell_type": "code",
   "execution_count": 4,
   "id": "20bc028f",
   "metadata": {},
   "outputs": [
    {
     "data": {
      "text/plain": [
       "(50000, 10)"
      ]
     },
     "execution_count": 4,
     "metadata": {},
     "output_type": "execute_result"
    }
   ],
   "source": [
    "filtered_data.shape"
   ]
  },
  {
   "cell_type": "code",
   "execution_count": 5,
   "id": "14220470",
   "metadata": {},
   "outputs": [],
   "source": [
    "df = filtered_data.copy()"
   ]
  },
  {
   "cell_type": "code",
   "execution_count": 6,
   "id": "2781ab5e",
   "metadata": {},
   "outputs": [
    {
     "data": {
      "text/html": [
       "<div>\n",
       "<style scoped>\n",
       "    .dataframe tbody tr th:only-of-type {\n",
       "        vertical-align: middle;\n",
       "    }\n",
       "\n",
       "    .dataframe tbody tr th {\n",
       "        vertical-align: top;\n",
       "    }\n",
       "\n",
       "    .dataframe thead th {\n",
       "        text-align: right;\n",
       "    }\n",
       "</style>\n",
       "<table border=\"1\" class=\"dataframe\">\n",
       "  <thead>\n",
       "    <tr style=\"text-align: right;\">\n",
       "      <th></th>\n",
       "      <th>Id</th>\n",
       "      <th>ProductId</th>\n",
       "      <th>UserId</th>\n",
       "      <th>ProfileName</th>\n",
       "      <th>HelpfulnessNumerator</th>\n",
       "      <th>HelpfulnessDenominator</th>\n",
       "      <th>Score</th>\n",
       "      <th>Time</th>\n",
       "      <th>Summary</th>\n",
       "      <th>Text</th>\n",
       "    </tr>\n",
       "  </thead>\n",
       "  <tbody>\n",
       "    <tr>\n",
       "      <th>0</th>\n",
       "      <td>1</td>\n",
       "      <td>B001E4KFG0</td>\n",
       "      <td>A3SGXH7AUHU8GW</td>\n",
       "      <td>delmartian</td>\n",
       "      <td>1</td>\n",
       "      <td>1</td>\n",
       "      <td>5</td>\n",
       "      <td>1303862400</td>\n",
       "      <td>Good Quality Dog Food</td>\n",
       "      <td>I have bought several of the Vitality canned d...</td>\n",
       "    </tr>\n",
       "    <tr>\n",
       "      <th>1</th>\n",
       "      <td>2</td>\n",
       "      <td>B00813GRG4</td>\n",
       "      <td>A1D87F6ZCVE5NK</td>\n",
       "      <td>dll pa</td>\n",
       "      <td>0</td>\n",
       "      <td>0</td>\n",
       "      <td>1</td>\n",
       "      <td>1346976000</td>\n",
       "      <td>Not as Advertised</td>\n",
       "      <td>Product arrived labeled as Jumbo Salted Peanut...</td>\n",
       "    </tr>\n",
       "    <tr>\n",
       "      <th>2</th>\n",
       "      <td>3</td>\n",
       "      <td>B000LQOCH0</td>\n",
       "      <td>ABXLMWJIXXAIN</td>\n",
       "      <td>Natalia Corres \"Natalia Corres\"</td>\n",
       "      <td>1</td>\n",
       "      <td>1</td>\n",
       "      <td>4</td>\n",
       "      <td>1219017600</td>\n",
       "      <td>\"Delight\" says it all</td>\n",
       "      <td>This is a confection that has been around a fe...</td>\n",
       "    </tr>\n",
       "    <tr>\n",
       "      <th>3</th>\n",
       "      <td>4</td>\n",
       "      <td>B000UA0QIQ</td>\n",
       "      <td>A395BORC6FGVXV</td>\n",
       "      <td>Karl</td>\n",
       "      <td>3</td>\n",
       "      <td>3</td>\n",
       "      <td>2</td>\n",
       "      <td>1307923200</td>\n",
       "      <td>Cough Medicine</td>\n",
       "      <td>If you are looking for the secret ingredient i...</td>\n",
       "    </tr>\n",
       "    <tr>\n",
       "      <th>4</th>\n",
       "      <td>5</td>\n",
       "      <td>B006K2ZZ7K</td>\n",
       "      <td>A1UQRSCLF8GW1T</td>\n",
       "      <td>Michael D. Bigham \"M. Wassir\"</td>\n",
       "      <td>0</td>\n",
       "      <td>0</td>\n",
       "      <td>5</td>\n",
       "      <td>1350777600</td>\n",
       "      <td>Great taffy</td>\n",
       "      <td>Great taffy at a great price.  There was a wid...</td>\n",
       "    </tr>\n",
       "  </tbody>\n",
       "</table>\n",
       "</div>"
      ],
      "text/plain": [
       "   Id   ProductId          UserId                      ProfileName  \\\n",
       "0   1  B001E4KFG0  A3SGXH7AUHU8GW                       delmartian   \n",
       "1   2  B00813GRG4  A1D87F6ZCVE5NK                           dll pa   \n",
       "2   3  B000LQOCH0   ABXLMWJIXXAIN  Natalia Corres \"Natalia Corres\"   \n",
       "3   4  B000UA0QIQ  A395BORC6FGVXV                             Karl   \n",
       "4   5  B006K2ZZ7K  A1UQRSCLF8GW1T    Michael D. Bigham \"M. Wassir\"   \n",
       "\n",
       "   HelpfulnessNumerator  HelpfulnessDenominator  Score        Time  \\\n",
       "0                     1                       1      5  1303862400   \n",
       "1                     0                       0      1  1346976000   \n",
       "2                     1                       1      4  1219017600   \n",
       "3                     3                       3      2  1307923200   \n",
       "4                     0                       0      5  1350777600   \n",
       "\n",
       "                 Summary                                               Text  \n",
       "0  Good Quality Dog Food  I have bought several of the Vitality canned d...  \n",
       "1      Not as Advertised  Product arrived labeled as Jumbo Salted Peanut...  \n",
       "2  \"Delight\" says it all  This is a confection that has been around a fe...  \n",
       "3         Cough Medicine  If you are looking for the secret ingredient i...  \n",
       "4            Great taffy  Great taffy at a great price.  There was a wid...  "
      ]
     },
     "execution_count": 6,
     "metadata": {},
     "output_type": "execute_result"
    }
   ],
   "source": [
    "df.head()"
   ]
  },
  {
   "cell_type": "code",
   "execution_count": 7,
   "id": "5bd283a1",
   "metadata": {},
   "outputs": [
    {
     "data": {
      "text/plain": [
       "5    0.68014\n",
       "4    0.15562\n",
       "1    0.10358\n",
       "2    0.06066\n",
       "Name: Score, dtype: float64"
      ]
     },
     "execution_count": 7,
     "metadata": {},
     "output_type": "execute_result"
    }
   ],
   "source": [
    "df['Score'].value_counts(normalize = True)"
   ]
  },
  {
   "cell_type": "markdown",
   "id": "729ef98a",
   "metadata": {},
   "source": [
    "#### Sorting the Data as Positive(1,2) and Negative(4,5) "
   ]
  },
  {
   "cell_type": "code",
   "execution_count": 8,
   "id": "40ea3577",
   "metadata": {},
   "outputs": [],
   "source": [
    "def binary(x):\n",
    "    if x < 3:\n",
    "        return 0\n",
    "    else :\n",
    "        return 1"
   ]
  },
  {
   "cell_type": "code",
   "execution_count": 9,
   "id": "f420b7f4",
   "metadata": {},
   "outputs": [
    {
     "name": "stdout",
     "output_type": "stream",
     "text": [
      "Number of data points are : (50000, 10)\n",
      "************************************************************************************************************************************************************************************************************************************************\n",
      "1    0.83576\n",
      "0    0.16424\n",
      "Name: Score, dtype: float64\n",
      "\n",
      "\n",
      "   Id   ProductId          UserId                      ProfileName  \\\n",
      "0   1  B001E4KFG0  A3SGXH7AUHU8GW                       delmartian   \n",
      "1   2  B00813GRG4  A1D87F6ZCVE5NK                           dll pa   \n",
      "2   3  B000LQOCH0   ABXLMWJIXXAIN  Natalia Corres \"Natalia Corres\"   \n",
      "3   4  B000UA0QIQ  A395BORC6FGVXV                             Karl   \n",
      "4   5  B006K2ZZ7K  A1UQRSCLF8GW1T    Michael D. Bigham \"M. Wassir\"   \n",
      "\n",
      "   HelpfulnessNumerator  HelpfulnessDenominator  Score        Time  \\\n",
      "0                     1                       1      1  1303862400   \n",
      "1                     0                       0      0  1346976000   \n",
      "2                     1                       1      1  1219017600   \n",
      "3                     3                       3      0  1307923200   \n",
      "4                     0                       0      1  1350777600   \n",
      "\n",
      "                 Summary                                               Text  \n",
      "0  Good Quality Dog Food  I have bought several of the Vitality canned d...  \n",
      "1      Not as Advertised  Product arrived labeled as Jumbo Salted Peanut...  \n",
      "2  \"Delight\" says it all  This is a confection that has been around a fe...  \n",
      "3         Cough Medicine  If you are looking for the secret ingredient i...  \n",
      "4            Great taffy  Great taffy at a great price.  There was a wid...  \n"
     ]
    }
   ],
   "source": [
    "PositiveNegative = df['Score'].map(binary)\n",
    "df['Score'] = PositiveNegative\n",
    "print('Number of data points are :',df.shape)\n",
    "print('************************'*10)\n",
    "print(df['Score'].value_counts(normalize = True))\n",
    "print('\\n')\n",
    "print(df.head())\n"
   ]
  },
  {
   "cell_type": "code",
   "execution_count": 10,
   "id": "18f4d3ed",
   "metadata": {},
   "outputs": [
    {
     "data": {
      "text/html": [
       "<div>\n",
       "<style scoped>\n",
       "    .dataframe tbody tr th:only-of-type {\n",
       "        vertical-align: middle;\n",
       "    }\n",
       "\n",
       "    .dataframe tbody tr th {\n",
       "        vertical-align: top;\n",
       "    }\n",
       "\n",
       "    .dataframe thead th {\n",
       "        text-align: right;\n",
       "    }\n",
       "</style>\n",
       "<table border=\"1\" class=\"dataframe\">\n",
       "  <thead>\n",
       "    <tr style=\"text-align: right;\">\n",
       "      <th></th>\n",
       "      <th>Id</th>\n",
       "      <th>ProductId</th>\n",
       "      <th>UserId</th>\n",
       "      <th>ProfileName</th>\n",
       "      <th>HelpfulnessNumerator</th>\n",
       "      <th>HelpfulnessDenominator</th>\n",
       "      <th>Score</th>\n",
       "      <th>Time</th>\n",
       "      <th>Summary</th>\n",
       "      <th>Text</th>\n",
       "    </tr>\n",
       "  </thead>\n",
       "  <tbody>\n",
       "    <tr>\n",
       "      <th>0</th>\n",
       "      <td>1</td>\n",
       "      <td>B001E4KFG0</td>\n",
       "      <td>A3SGXH7AUHU8GW</td>\n",
       "      <td>delmartian</td>\n",
       "      <td>1</td>\n",
       "      <td>1</td>\n",
       "      <td>1</td>\n",
       "      <td>1303862400</td>\n",
       "      <td>Good Quality Dog Food</td>\n",
       "      <td>I have bought several of the Vitality canned d...</td>\n",
       "    </tr>\n",
       "    <tr>\n",
       "      <th>1</th>\n",
       "      <td>2</td>\n",
       "      <td>B00813GRG4</td>\n",
       "      <td>A1D87F6ZCVE5NK</td>\n",
       "      <td>dll pa</td>\n",
       "      <td>0</td>\n",
       "      <td>0</td>\n",
       "      <td>0</td>\n",
       "      <td>1346976000</td>\n",
       "      <td>Not as Advertised</td>\n",
       "      <td>Product arrived labeled as Jumbo Salted Peanut...</td>\n",
       "    </tr>\n",
       "    <tr>\n",
       "      <th>2</th>\n",
       "      <td>3</td>\n",
       "      <td>B000LQOCH0</td>\n",
       "      <td>ABXLMWJIXXAIN</td>\n",
       "      <td>Natalia Corres \"Natalia Corres\"</td>\n",
       "      <td>1</td>\n",
       "      <td>1</td>\n",
       "      <td>1</td>\n",
       "      <td>1219017600</td>\n",
       "      <td>\"Delight\" says it all</td>\n",
       "      <td>This is a confection that has been around a fe...</td>\n",
       "    </tr>\n",
       "    <tr>\n",
       "      <th>3</th>\n",
       "      <td>4</td>\n",
       "      <td>B000UA0QIQ</td>\n",
       "      <td>A395BORC6FGVXV</td>\n",
       "      <td>Karl</td>\n",
       "      <td>3</td>\n",
       "      <td>3</td>\n",
       "      <td>0</td>\n",
       "      <td>1307923200</td>\n",
       "      <td>Cough Medicine</td>\n",
       "      <td>If you are looking for the secret ingredient i...</td>\n",
       "    </tr>\n",
       "    <tr>\n",
       "      <th>4</th>\n",
       "      <td>5</td>\n",
       "      <td>B006K2ZZ7K</td>\n",
       "      <td>A1UQRSCLF8GW1T</td>\n",
       "      <td>Michael D. Bigham \"M. Wassir\"</td>\n",
       "      <td>0</td>\n",
       "      <td>0</td>\n",
       "      <td>1</td>\n",
       "      <td>1350777600</td>\n",
       "      <td>Great taffy</td>\n",
       "      <td>Great taffy at a great price.  There was a wid...</td>\n",
       "    </tr>\n",
       "  </tbody>\n",
       "</table>\n",
       "</div>"
      ],
      "text/plain": [
       "   Id   ProductId          UserId                      ProfileName  \\\n",
       "0   1  B001E4KFG0  A3SGXH7AUHU8GW                       delmartian   \n",
       "1   2  B00813GRG4  A1D87F6ZCVE5NK                           dll pa   \n",
       "2   3  B000LQOCH0   ABXLMWJIXXAIN  Natalia Corres \"Natalia Corres\"   \n",
       "3   4  B000UA0QIQ  A395BORC6FGVXV                             Karl   \n",
       "4   5  B006K2ZZ7K  A1UQRSCLF8GW1T    Michael D. Bigham \"M. Wassir\"   \n",
       "\n",
       "   HelpfulnessNumerator  HelpfulnessDenominator  Score        Time  \\\n",
       "0                     1                       1      1  1303862400   \n",
       "1                     0                       0      0  1346976000   \n",
       "2                     1                       1      1  1219017600   \n",
       "3                     3                       3      0  1307923200   \n",
       "4                     0                       0      1  1350777600   \n",
       "\n",
       "                 Summary                                               Text  \n",
       "0  Good Quality Dog Food  I have bought several of the Vitality canned d...  \n",
       "1      Not as Advertised  Product arrived labeled as Jumbo Salted Peanut...  \n",
       "2  \"Delight\" says it all  This is a confection that has been around a fe...  \n",
       "3         Cough Medicine  If you are looking for the secret ingredient i...  \n",
       "4            Great taffy  Great taffy at a great price.  There was a wid...  "
      ]
     },
     "execution_count": 10,
     "metadata": {},
     "output_type": "execute_result"
    }
   ],
   "source": [
    "df.head()"
   ]
  },
  {
   "cell_type": "markdown",
   "id": "9e5a0dc0",
   "metadata": {},
   "source": [
    "#### Sorting The Data in Ascending Order According of ProductId"
   ]
  },
  {
   "cell_type": "code",
   "execution_count": 11,
   "id": "678ce6fc",
   "metadata": {},
   "outputs": [],
   "source": [
    "sorted_data = df.sort_values('ProductId',axis = 0,ascending = True)"
   ]
  },
  {
   "cell_type": "code",
   "execution_count": 12,
   "id": "df9135d1",
   "metadata": {},
   "outputs": [
    {
     "data": {
      "text/html": [
       "<div>\n",
       "<style scoped>\n",
       "    .dataframe tbody tr th:only-of-type {\n",
       "        vertical-align: middle;\n",
       "    }\n",
       "\n",
       "    .dataframe tbody tr th {\n",
       "        vertical-align: top;\n",
       "    }\n",
       "\n",
       "    .dataframe thead th {\n",
       "        text-align: right;\n",
       "    }\n",
       "</style>\n",
       "<table border=\"1\" class=\"dataframe\">\n",
       "  <thead>\n",
       "    <tr style=\"text-align: right;\">\n",
       "      <th></th>\n",
       "      <th>Id</th>\n",
       "      <th>ProductId</th>\n",
       "      <th>UserId</th>\n",
       "      <th>ProfileName</th>\n",
       "      <th>HelpfulnessNumerator</th>\n",
       "      <th>HelpfulnessDenominator</th>\n",
       "      <th>Score</th>\n",
       "      <th>Time</th>\n",
       "      <th>Summary</th>\n",
       "      <th>Text</th>\n",
       "    </tr>\n",
       "  </thead>\n",
       "  <tbody>\n",
       "    <tr>\n",
       "      <th>22620</th>\n",
       "      <td>24750</td>\n",
       "      <td>2734888454</td>\n",
       "      <td>A13ISQV0U9GZIC</td>\n",
       "      <td>Sandikaye</td>\n",
       "      <td>1</td>\n",
       "      <td>1</td>\n",
       "      <td>0</td>\n",
       "      <td>1192060800</td>\n",
       "      <td>made in china</td>\n",
       "      <td>My dogs loves this chicken but its a product f...</td>\n",
       "    </tr>\n",
       "    <tr>\n",
       "      <th>22621</th>\n",
       "      <td>24751</td>\n",
       "      <td>2734888454</td>\n",
       "      <td>A1C298ITT645B6</td>\n",
       "      <td>Hugh G. Pritchard</td>\n",
       "      <td>0</td>\n",
       "      <td>0</td>\n",
       "      <td>1</td>\n",
       "      <td>1195948800</td>\n",
       "      <td>Dog Lover Delites</td>\n",
       "      <td>Our dogs just love them.  I saw them in a pet ...</td>\n",
       "    </tr>\n",
       "    <tr>\n",
       "      <th>2546</th>\n",
       "      <td>2774</td>\n",
       "      <td>B00002NCJC</td>\n",
       "      <td>A196AJHU9EASJN</td>\n",
       "      <td>Alex Chaffee</td>\n",
       "      <td>0</td>\n",
       "      <td>0</td>\n",
       "      <td>1</td>\n",
       "      <td>1282953600</td>\n",
       "      <td>thirty bucks?</td>\n",
       "      <td>Why is this $[...] when the same product is av...</td>\n",
       "    </tr>\n",
       "    <tr>\n",
       "      <th>2547</th>\n",
       "      <td>2775</td>\n",
       "      <td>B00002NCJC</td>\n",
       "      <td>A13RRPGE79XFFH</td>\n",
       "      <td>reader48</td>\n",
       "      <td>0</td>\n",
       "      <td>0</td>\n",
       "      <td>1</td>\n",
       "      <td>1281052800</td>\n",
       "      <td>Flies Begone</td>\n",
       "      <td>We have used the Victor fly bait for 3 seasons...</td>\n",
       "    </tr>\n",
       "    <tr>\n",
       "      <th>1145</th>\n",
       "      <td>1244</td>\n",
       "      <td>B00002Z754</td>\n",
       "      <td>A3B8RCEI0FXFI6</td>\n",
       "      <td>B G Chase</td>\n",
       "      <td>10</td>\n",
       "      <td>10</td>\n",
       "      <td>1</td>\n",
       "      <td>962236800</td>\n",
       "      <td>WOW Make your own 'slickers' !</td>\n",
       "      <td>I just received my shipment and could hardly w...</td>\n",
       "    </tr>\n",
       "  </tbody>\n",
       "</table>\n",
       "</div>"
      ],
      "text/plain": [
       "          Id   ProductId          UserId        ProfileName  \\\n",
       "22620  24750  2734888454  A13ISQV0U9GZIC          Sandikaye   \n",
       "22621  24751  2734888454  A1C298ITT645B6  Hugh G. Pritchard   \n",
       "2546    2774  B00002NCJC  A196AJHU9EASJN       Alex Chaffee   \n",
       "2547    2775  B00002NCJC  A13RRPGE79XFFH           reader48   \n",
       "1145    1244  B00002Z754  A3B8RCEI0FXFI6          B G Chase   \n",
       "\n",
       "       HelpfulnessNumerator  HelpfulnessDenominator  Score        Time  \\\n",
       "22620                     1                       1      0  1192060800   \n",
       "22621                     0                       0      1  1195948800   \n",
       "2546                      0                       0      1  1282953600   \n",
       "2547                      0                       0      1  1281052800   \n",
       "1145                     10                      10      1   962236800   \n",
       "\n",
       "                              Summary  \\\n",
       "22620                   made in china   \n",
       "22621               Dog Lover Delites   \n",
       "2546                    thirty bucks?   \n",
       "2547                     Flies Begone   \n",
       "1145   WOW Make your own 'slickers' !   \n",
       "\n",
       "                                                    Text  \n",
       "22620  My dogs loves this chicken but its a product f...  \n",
       "22621  Our dogs just love them.  I saw them in a pet ...  \n",
       "2546   Why is this $[...] when the same product is av...  \n",
       "2547   We have used the Victor fly bait for 3 seasons...  \n",
       "1145   I just received my shipment and could hardly w...  "
      ]
     },
     "execution_count": 12,
     "metadata": {},
     "output_type": "execute_result"
    }
   ],
   "source": [
    "sorted_data.head()"
   ]
  },
  {
   "cell_type": "markdown",
   "id": "7fef00bc",
   "metadata": {},
   "source": [
    "#### Checking Null Values in the Data"
   ]
  },
  {
   "cell_type": "code",
   "execution_count": 13,
   "id": "209f9500",
   "metadata": {},
   "outputs": [
    {
     "data": {
      "text/plain": [
       "Id                        0\n",
       "ProductId                 0\n",
       "UserId                    0\n",
       "ProfileName               0\n",
       "HelpfulnessNumerator      0\n",
       "HelpfulnessDenominator    0\n",
       "Score                     0\n",
       "Time                      0\n",
       "Summary                   0\n",
       "Text                      0\n",
       "dtype: int64"
      ]
     },
     "execution_count": 13,
     "metadata": {},
     "output_type": "execute_result"
    }
   ],
   "source": [
    "sorted_data.isnull().sum()"
   ]
  },
  {
   "cell_type": "markdown",
   "id": "e0274beb",
   "metadata": {},
   "source": [
    "No Null Value Found.We can do further Analysis without transforming/removing data points "
   ]
  },
  {
   "cell_type": "markdown",
   "id": "d9ce6536",
   "metadata": {},
   "source": [
    "#### As we are doing Sentiment Analysis then the similar words in Text Columns will not have any significance as only one.Dropping Duplicates "
   ]
  },
  {
   "cell_type": "code",
   "execution_count": 15,
   "id": "7baf9eac",
   "metadata": {},
   "outputs": [],
   "source": [
    "final = sorted_data.drop_duplicates(subset = {'UserId','ProfileName','Text'},keep = 'first')"
   ]
  },
  {
   "cell_type": "code",
   "execution_count": 16,
   "id": "ea2a82a1",
   "metadata": {},
   "outputs": [
    {
     "data": {
      "text/plain": [
       "(50000, 10)"
      ]
     },
     "execution_count": 16,
     "metadata": {},
     "output_type": "execute_result"
    }
   ],
   "source": [
    "sorted_data.shape"
   ]
  },
  {
   "cell_type": "code",
   "execution_count": 17,
   "id": "66ec37ce",
   "metadata": {},
   "outputs": [
    {
     "data": {
      "text/plain": [
       "(46058, 10)"
      ]
     },
     "execution_count": 17,
     "metadata": {},
     "output_type": "execute_result"
    }
   ],
   "source": [
    "final.shape"
   ]
  },
  {
   "cell_type": "markdown",
   "id": "cda42460",
   "metadata": {},
   "source": [
    "## Text Analytics"
   ]
  },
  {
   "cell_type": "markdown",
   "id": "1c2eaf34",
   "metadata": {},
   "source": [
    "### Data Cleaning"
   ]
  },
  {
   "cell_type": "code",
   "execution_count": 18,
   "id": "704cd93c",
   "metadata": {},
   "outputs": [
    {
     "name": "stdout",
     "output_type": "stream",
     "text": [
      "My dogs loves this chicken but its a product from China, so we wont be buying it anymore.  Its very hard to find any chicken products made in the USA but they are out there, but this one isnt.  Its too bad too because its a good product but I wont take any chances till they know what is going on with the china imports.\n",
      "====================\n",
      "I've been trying to find the individual-pack option (at the affordable price) for months now. I love having the ability to know exactly how much creamer I'm using by counting the individual packets. (This product isn't available in my grocery store-- just by the coffee dispensers at local convenience stores.) They're perfect for keeping at my desk at work~~I don't have to use the community fridge, and it doesn't lump up in my coffee like the powdered versions do. It's a little less convenient at home, though, where I'm accustomed to using my refrigerated bottled versions~~opening the little packets one at a time at 5 am can get annoying--but then again, I know exactly how much creamer I'm adding to my coffee instead of dolloping in a random splash. (Now all I need is someone to add the sugar-free versions of Coffee-Mate to the Amazon selection. Hint, hint. :) )\n",
      "====================\n",
      "Just an FYI to other customers: This item is for the Beef and Ocean Fish formula which is in a RED bag. In my haste, I purchased this thinking it was a the 15lb version of the Chicken and Rice formula. Woops! So I went and bought the 15lb bag of Chicken and Rice and mix the Beef and Fish in so it didn't wreak havoc on my pup's digestive system.<br /><br />I can say that after we started feeding this to my pup, she starting having stinky farts and had never had them before. Also, Roshan's right about the fish breath! Ick.<br /><br />Overall, my dog has no issues with this formula, it's just stinky so I'll stick to Chicken and Rice after this bag is done.\n",
      "====================\n",
      "These treats are great! My dogs love them and they are natural and healthy. You can't beat that. : )\n",
      "====================\n",
      "I had to choke down the first cup of this tea. It burned the back of my throat and made my tummy rumble a lot. But once I got used to the taste and how to drink it (not super hot and sipping slowly) I love it. It is definitely dehydrating and will make you pee alot, so be sure to drink lots of water, too.<br /><br />Drinking this daily at bedtime has been really beneficial to me. Even if it's just a placebo, I love it. In combination with lots of vitamins, exercise, and good nutrition, I'm seeing the weight come off a lot faster than before. I know it's probably water but hey, you gotta start somewhere!<br /><br />Highly recommend. Spicy, sweet without adding anything, like chai with a bit more licorice scent. Yummy.\n",
      "====================\n",
      "Made bread in both oven and bread machine.  The oven method seems to produce an 'exploded' top, which I assume is from the yeast rising too quickly?  Either way the bread turns out moist and stays fairly well in the fridge.  I always toast the bread on a dark setting which produces a light tan, probably due to the moisture in the loaf.  Every GF bread I have tried has always seem to be much better tasting toasted and I think that is the rule if the GF world?<br /><br />I also use this for pie crust (you do not use the yeast).  The pie crust has 3 variants:<br /><br />1) Standard - 2 sticks of butter<br />2) Flakier - 1 stick of butter and 8 OZ of shortening<br />3) Non Dairy - 1 stick of margarine and 8 OZ of shortening<br /><br />I've tried both the standard and flakier versions and both turned out well.  Never had a complaint about my pies (yet!).  You may want to warm up the bottom crust first or it may be a little raw, but I have also had that happen on regular pie crusts.<br /><br />If you do try the pie crust - make sure you put the mixture in the fridge for a bit to ensure it is cold, otherwise it may be too sticky.  I roll it between 2 sheets of wax paper that has a quick spray of PAM applied.  Makes the transfer to the pie plate a snap!\n",
      "====================\n"
     ]
    }
   ],
   "source": [
    "sent_0 = final['Text'].values[0]\n",
    "print(sent_0)\n",
    "print('='*20)\n",
    "\n",
    "sent_10 = final['Text'].values[10]\n",
    "print(sent_10)\n",
    "print('='*20)\n",
    "\n",
    "sent_100 = final['Text'].values[100]\n",
    "print(sent_100)\n",
    "print('='*20)\n",
    "\n",
    "sent_200 = final['Text'].values[200]\n",
    "print(sent_200)\n",
    "print('='*20)\n",
    "\n",
    "\n",
    "\n",
    "sent_3000= final['Text'].values[3000]\n",
    "print(sent_3000)\n",
    "print('='*20)\n",
    "\n",
    "\n",
    "sent_4110 = final['Text'].values[4110]\n",
    "print(sent_4110)\n",
    "print('='*20)"
   ]
  },
  {
   "cell_type": "code",
   "execution_count": 19,
   "id": "5ffa62f7",
   "metadata": {},
   "outputs": [],
   "source": [
    "import re\n",
    "sent_0 = re.sub(r\"http/S+\",\"\",sent_0)\n",
    "sent_10 = re.sub(r\"http/S+\",\"\",sent_10)\n",
    "sent_100 = re.sub(r\"http/S+\",\"\",sent_100)\n",
    "sent_3000 = re.sub(r\"http/S+\",\"\",sent_3000)\n",
    "sent_4110 = re.sub(r\"http/S+\",\"\",sent_4110)"
   ]
  },
  {
   "cell_type": "code",
   "execution_count": 20,
   "id": "5ad2338d",
   "metadata": {},
   "outputs": [
    {
     "name": "stdout",
     "output_type": "stream",
     "text": [
      "My dogs loves this chicken but its a product from China, so we wont be buying it anymore.  Its very hard to find any chicken products made in the USA but they are out there, but this one isnt.  Its too bad too because its a good product but I wont take any chances till they know what is going on with the china imports.\n",
      "==================================================\n",
      "I've been trying to find the individual-pack option (at the affordable price) for months now. I love having the ability to know exactly how much creamer I'm using by counting the individual packets. (This product isn't available in my grocery store-- just by the coffee dispensers at local convenience stores.) They're perfect for keeping at my desk at work~~I don't have to use the community fridge, and it doesn't lump up in my coffee like the powdered versions do. It's a little less convenient at home, though, where I'm accustomed to using my refrigerated bottled versions~~opening the little packets one at a time at 5 am can get annoying--but then again, I know exactly how much creamer I'm adding to my coffee instead of dolloping in a random splash. (Now all I need is someone to add the sugar-free versions of Coffee-Mate to the Amazon selection. Hint, hint. :) )\n",
      "==================================================\n",
      "Just an FYI to other customers: This item is for the Beef and Ocean Fish formula which is in a RED bag. In my haste, I purchased this thinking it was a the 15lb version of the Chicken and Rice formula. Woops! So I went and bought the 15lb bag of Chicken and Rice and mix the Beef and Fish in so it didn't wreak havoc on my pup's digestive system.I can say that after we started feeding this to my pup, she starting having stinky farts and had never had them before. Also, Roshan's right about the fish breath! Ick.Overall, my dog has no issues with this formula, it's just stinky so I'll stick to Chicken and Rice after this bag is done.\n",
      "==================================================\n",
      "These treats are great! My dogs love them and they are natural and healthy. You can't beat that. : )\n",
      "==================================================\n",
      "I had to choke down the first cup of this tea. It burned the back of my throat and made my tummy rumble a lot. But once I got used to the taste and how to drink it (not super hot and sipping slowly) I love it. It is definitely dehydrating and will make you pee alot, so be sure to drink lots of water, too.Drinking this daily at bedtime has been really beneficial to me. Even if it's just a placebo, I love it. In combination with lots of vitamins, exercise, and good nutrition, I'm seeing the weight come off a lot faster than before. I know it's probably water but hey, you gotta start somewhere!Highly recommend. Spicy, sweet without adding anything, like chai with a bit more licorice scent. Yummy.\n",
      "==================================================\n",
      "Made bread in both oven and bread machine.  The oven method seems to produce an 'exploded' top, which I assume is from the yeast rising too quickly?  Either way the bread turns out moist and stays fairly well in the fridge.  I always toast the bread on a dark setting which produces a light tan, probably due to the moisture in the loaf.  Every GF bread I have tried has always seem to be much better tasting toasted and I think that is the rule if the GF world?I also use this for pie crust (you do not use the yeast).  The pie crust has 3 variants:1) Standard - 2 sticks of butter2) Flakier - 1 stick of butter and 8 OZ of shortening3) Non Dairy - 1 stick of margarine and 8 OZ of shorteningI've tried both the standard and flakier versions and both turned out well.  Never had a complaint about my pies (yet!).  You may want to warm up the bottom crust first or it may be a little raw, but I have also had that happen on regular pie crusts.If you do try the pie crust - make sure you put the mixture in the fridge for a bit to ensure it is cold, otherwise it may be too sticky.  I roll it between 2 sheets of wax paper that has a quick spray of PAM applied.  Makes the transfer to the pie plate a snap!\n",
      "==================================================\n"
     ]
    }
   ],
   "source": [
    "#Web Scraping\n",
    "from bs4 import BeautifulSoup\n",
    "\n",
    "soup = BeautifulSoup(sent_0, 'lxml')\n",
    "text = soup.get_text()\n",
    "print(text)\n",
    "print(\"=\"*50)\n",
    "\n",
    "soup = BeautifulSoup(sent_10, 'lxml')\n",
    "text = soup.get_text()\n",
    "print(text)\n",
    "print(\"=\"*50)\n",
    "\n",
    "soup = BeautifulSoup(sent_100, 'lxml')\n",
    "text = soup.get_text()\n",
    "print(text)\n",
    "print(\"=\"*50)\n",
    "\n",
    "\n",
    "soup = BeautifulSoup(sent_200, 'lxml')\n",
    "text = soup.get_text()\n",
    "print(text)\n",
    "print(\"=\"*50)\n",
    "\n",
    "soup = BeautifulSoup(sent_3000, 'lxml')\n",
    "text = soup.get_text()\n",
    "print(text)\n",
    "print(\"=\"*50)\n",
    "\n",
    "soup = BeautifulSoup(sent_4110, 'lxml')\n",
    "text = soup.get_text()\n",
    "print(text)\n",
    "print(\"=\"*50)\n",
    "\n",
    "\n"
   ]
  },
  {
   "cell_type": "code",
   "execution_count": 21,
   "id": "18cbada4",
   "metadata": {},
   "outputs": [
    {
     "name": "stdout",
     "output_type": "stream",
     "text": [
      "My dogs loves this chicken but its a product from China so we wont be buying it anymore Its very hard to find any chicken products made in the USA but they are out there but this one isnt Its too bad too because its a good product but I wont take any chances till they know what is going on with the china imports \n"
     ]
    }
   ],
   "source": [
    "sent_0 = re.sub('[^A-Za-z]+',\" \",sent_0)\n",
    "print(sent_0)"
   ]
  },
  {
   "cell_type": "code",
   "execution_count": 22,
   "id": "eccab9c3",
   "metadata": {},
   "outputs": [],
   "source": [
    "def decontracted(phrase):\n",
    "    phrase = re.sub(\"don't\",'do not',phrase)\n",
    "    phrase = re.sub(\"won't\",'will not',phrase)\n",
    "    phrase = re.sub(\"couldn't\",'could not',phrase)\n",
    "    phrase = re.sub(\"wouldn't\",'would not',phrase)\n",
    "    phrase = re.sub(\"it's\",'it is',phrase)\n",
    "    phrase = re.sub(\"haven't\",\"have not\",phrase)\n",
    "    phrase = re.sub(\"can't\",'can not',phrase)\n",
    "    phrase = re.sub(\"hasn't\",'has not',phrase)\n",
    "    phrase = re.sub(\"shouldn't\",'should not',phrase)\n",
    "    phrase = re.sub(\"didn't\",'did not',phrase)\n",
    "    \n",
    "    phrase = re.sub(r\"\\'s\",'is',phrase)\n",
    "    phrase = re.sub(r\"\\'re\",'are',phrase)\n",
    "    phrase = re.sub(r\"\\'ve\",'have',phrase)\n",
    "    phrase = re.sub(r\"\\'t\",'not',phrase)\n",
    "    phrase = re.sub(r\"\\'ll\",'will',phrase)\n",
    "    phrase = re.sub(r\"\\'m\",'am',phrase)\n",
    "    \n",
    "    return phrase"
   ]
  },
  {
   "cell_type": "code",
   "execution_count": 23,
   "id": "793d56d5",
   "metadata": {},
   "outputs": [
    {
     "data": {
      "text/plain": [
       "'i always try to feed healthy snacks. My dog does not always like them as much as less healthy snacks.<br />This is the snack that we meet in the middle about.... actually she likes this the best of all her snacks!!!'"
      ]
     },
     "execution_count": 23,
     "metadata": {},
     "output_type": "execute_result"
    }
   ],
   "source": [
    "sent_1 = final['Text'].values[1665]\n",
    "sent_1"
   ]
  },
  {
   "cell_type": "code",
   "execution_count": 24,
   "id": "f5c1fb30",
   "metadata": {},
   "outputs": [
    {
     "data": {
      "text/plain": [
       "'i always try to feed healthy snacks. My dog does not always like them as much as less healthy snacks.<br />This is the snack that we meet in the middle about.... actually she likes this the best of all her snacks!!!'"
      ]
     },
     "execution_count": 24,
     "metadata": {},
     "output_type": "execute_result"
    }
   ],
   "source": [
    "decontracted(sent_1)"
   ]
  },
  {
   "cell_type": "code",
   "execution_count": 25,
   "id": "98d5d6bd",
   "metadata": {},
   "outputs": [
    {
     "name": "stdout",
     "output_type": "stream",
     "text": [
      "I learned to use Rumford from my Mother.  She could always taste the baking powder if another one was used.  Therefore, we never had Calumet in the house.\n",
      "====================\n"
     ]
    }
   ],
   "source": [
    "sent_110 = final['Text'].values[1197]\n",
    "print(sent_110)\n",
    "print('='*20)"
   ]
  },
  {
   "cell_type": "code",
   "execution_count": 26,
   "id": "d92ed286",
   "metadata": {},
   "outputs": [
    {
     "name": "stdout",
     "output_type": "stream",
     "text": [
      "I learned to use Rumford from my Mother.  She could always taste the baking powder if another one was used.  Therefore, we never had Calumet in the house.\n"
     ]
    }
   ],
   "source": [
    "import contractions\n",
    "sent_110 = contractions.fix(sent_110)\n",
    "print(sent_110)"
   ]
  },
  {
   "cell_type": "markdown",
   "id": "46c164eb",
   "metadata": {},
   "source": [
    "#### Remove StopWords"
   ]
  },
  {
   "cell_type": "code",
   "execution_count": 27,
   "id": "f8fa3245",
   "metadata": {},
   "outputs": [],
   "source": [
    "from nltk.corpus import stopwords\n",
    "stop_words = set(stopwords.words('english'))"
   ]
  },
  {
   "cell_type": "code",
   "execution_count": 29,
   "id": "87721dfd",
   "metadata": {},
   "outputs": [],
   "source": [
    "stopwords = set(['okey','okay','br','yup','a',\n",
    " 'about',\n",
    " 'above',\n",
    " 'after',\n",
    " 'again',\n",
    " 'against',\n",
    " 'ain',\n",
    " 'all',\n",
    " 'am',\n",
    " 'an',\n",
    " 'and',\n",
    " 'any',\n",
    " 'are',\n",
    " 'aren',\n",
    " \"aren't\",\n",
    " 'as',\n",
    " 'at',\n",
    " 'be',\n",
    " 'because',\n",
    " 'been',\n",
    " 'before',\n",
    " 'being',\n",
    " 'below',\n",
    " 'between',\n",
    " 'both',\n",
    " 'but',\n",
    " 'by',\n",
    " 'can',\n",
    " 'couldn',\n",
    " \"couldn't\",\n",
    " 'd',\n",
    " 'did',\n",
    " 'didn',\n",
    " \"didn't\",\n",
    " 'do',\n",
    " 'does',\n",
    " 'doesn',\n",
    " \"doesn't\",\n",
    " 'doing',\n",
    " 'don',\n",
    " \"don't\",\n",
    " 'down',\n",
    " 'during',\n",
    " 'each',\n",
    " 'few',\n",
    " 'for',\n",
    " 'from',\n",
    " 'further',\n",
    " 'had',\n",
    " 'hadn',\n",
    " \"hadn't\",\n",
    " 'has',\n",
    " 'hasn',\n",
    " \"hasn't\",\n",
    " 'have',\n",
    " 'haven',\n",
    " \"haven't\",\n",
    " 'having',\n",
    " 'he',\n",
    " 'her',\n",
    " 'here',\n",
    " 'hers',\n",
    " 'herself',\n",
    " 'him',\n",
    " 'himself',\n",
    " 'his',\n",
    " 'how',\n",
    " 'i',\n",
    " 'if',\n",
    " 'in',\n",
    " 'into',\n",
    " 'is',\n",
    " 'isn',\n",
    " \"isn't\",\n",
    " 'it',\n",
    " \"it's\",\n",
    " 'its',\n",
    " 'itself',\n",
    " 'just',\n",
    " 'll',\n",
    " 'm',\n",
    " 'ma',\n",
    " 'me',\n",
    " 'mightn',\n",
    " \"mightn't\",\n",
    " 'more',\n",
    " 'most',\n",
    " 'mustn',\n",
    " \"mustn't\",\n",
    " 'my',\n",
    " 'myself',\n",
    " 'needn',\n",
    " \"needn't\",\n",
    " 'no',\n",
    " 'nor',\n",
    " 'not',\n",
    " 'now',\n",
    " 'o',\n",
    " 'of',\n",
    " 'off',\n",
    " 'on',\n",
    " 'once',\n",
    " 'only',\n",
    " 'or',\n",
    " 'other',\n",
    " 'our',\n",
    " 'ours',\n",
    " 'ourselves',\n",
    " 'out',\n",
    " 'over',\n",
    " 'own',\n",
    " 're',\n",
    " 's',\n",
    " 'same',\n",
    " 'shan',\n",
    " \"shan't\",\n",
    " 'she',\n",
    " \"she's\",\n",
    " 'should',\n",
    " \"should've\",\n",
    " 'shouldn',\n",
    " \"shouldn't\",\n",
    " 'so',\n",
    " 'some',\n",
    " 'such',\n",
    " 't',\n",
    " 'than',\n",
    " 'that',\n",
    " \"that'll\",\n",
    " 'the',\n",
    " 'their',\n",
    " 'theirs',\n",
    " 'them',\n",
    " 'themselves',\n",
    " 'then',\n",
    " 'there',\n",
    " 'these',\n",
    " 'they',\n",
    " 'this',\n",
    " 'those',\n",
    " 'through',\n",
    " 'to',\n",
    " 'too',\n",
    " 'under',\n",
    " 'until',\n",
    " 'up',\n",
    " 've',\n",
    " 'very',\n",
    " 'was',\n",
    " 'wasn',\n",
    " \"wasn't\",\n",
    " 'we',\n",
    " 'were',\n",
    " 'weren',\n",
    " \"weren't\",\n",
    " 'what',\n",
    " 'when',\n",
    " 'where',\n",
    " 'which',\n",
    " 'while',\n",
    " 'who',\n",
    " 'whom',\n",
    " 'why',\n",
    " 'will',\n",
    " 'with',\n",
    " 'won',\n",
    " \"won't\",\n",
    " 'wouldn',\n",
    " \"wouldn't\",\n",
    " 'y',\n",
    " 'you',\n",
    " \"you'd\",\n",
    " \"you'll\",\n",
    " \"you're\",\n",
    " \"you've\",'your','yours','yourself','yourselves','aa', 'aaa', 'aaaa', 'aaaaa', 'aaaaaa',\n",
    " 'aaaaaaaaaaa', 'aaaaaaaaaaaa', 'aaaaaaaaaaaaa', 'aaaaaaaaaaaaaa', 'aaaaaaaaaaaaaaa', \n",
    " 'aaaaaaaaaaaaaaaaaaaaaaaaaaaaaaaaaaaaaaaaaaaa', 'aaaaaaaaaaaaaaaaaaaargh', \n",
    " 'aaaaaaaaaaaaaaaaacccccccckkkkkk', 'aaaaaaaaagghh', 'aaaaaaah', \n",
    " 'aaaaaaahhhhhh', 'aaaaaaarrrrrggghhh', 'aaaaaah', 'aaaaaahhh', \n",
    " 'aaaaaahhhh', 'aaaaaahhhhh', 'aaaaaahhhhhyaaaaaa', 'aaaaaand', \n",
    " 'aaaaaawwwwwwwwww', 'aaaaah', 'aaaaahhhhhhhhhhhhhhhh', 'aaaaallll', 'aaaaawsome', 'aaaah', \n",
    " 'aaaahhhhhh', 'aaaahhhhhhhhhhh', 'aaaallll', 'aaaand', 'aaaannnnddd', 'aaaarrrrghh', 'aaagh',\n",
    " 'aaah', 'aaahhh', 'aaahhhhhh', 'aaahhhs', 'aaahs'])"
   ]
  },
  {
   "cell_type": "markdown",
   "id": "876164e2",
   "metadata": {},
   "source": [
    "Applying All the Cleaning Methods on all the Dataset"
   ]
  },
  {
   "cell_type": "code",
   "execution_count": 42,
   "id": "2ddc8f15",
   "metadata": {},
   "outputs": [
    {
     "name": "stderr",
     "output_type": "stream",
     "text": [
      "100%|██████████████████████████████████████████████████████████████████████████| 46058/46058 [4:15:30<00:00,  3.00it/s]\n"
     ]
    }
   ],
   "source": [
    "from tqdm import tqdm\n",
    "\n",
    "lemm = WordNetLemmatizer()\n",
    "\n",
    "preprocessed_review = []\n",
    "\n",
    "for sentence in tqdm(final['Text'].values):\n",
    "    sentence = re.sub(r\"http/S+\", \"\", sentence)\n",
    "    sentence = BeautifulSoup(sentence, 'lxml').get_text()\n",
    "    sentence = contractions.fix(sentence)\n",
    "    sentence = re.sub('\\S\\*d\\S*', ' ', sentence).strip()\n",
    "    sentence = re.sub('[^A-Za-z]+', ' ', sentence)\n",
    "    stopword = set(stopwords.words('english'))\n",
    "    word_tokens = sentence.split()\n",
    "    \n",
    "    word_dictionary = set(words.words())\n",
    "    \n",
    "    filtered_sentence = [word for word in word_tokens if word.lower() in word_dictionary]\n",
    "    lemmatized_sentence = [lemm.lemmatize(word.lower()) for word in filtered_sentence if word.lower() not in stopword]\n",
    "    sentence = ' '.join(lemmatized_sentence)\n",
    "    preprocessed_review.append(sentence)"
   ]
  },
  {
   "cell_type": "markdown",
   "id": "95da0ca4",
   "metadata": {},
   "source": [
    "Checking the Preprocessed Reviews"
   ]
  },
  {
   "cell_type": "code",
   "execution_count": 28,
   "id": "12d12f1a",
   "metadata": {},
   "outputs": [],
   "source": [
    "import pickle\n",
    "import joblib"
   ]
  },
  {
   "cell_type": "code",
   "execution_count": 29,
   "id": "12939af2",
   "metadata": {},
   "outputs": [],
   "source": [
    "with open('preprocessed_review.pkl', 'rb') as ppr:\n",
    "    preprocessed_review = pickle.load(ppr)"
   ]
  },
  {
   "cell_type": "code",
   "execution_count": 30,
   "id": "fbb1df46",
   "metadata": {},
   "outputs": [
    {
     "data": {
      "text/plain": [
       "46058"
      ]
     },
     "execution_count": 30,
     "metadata": {},
     "output_type": "execute_result"
    }
   ],
   "source": [
    "len(preprocessed_review)   "
   ]
  },
  {
   "cell_type": "code",
   "execution_count": 32,
   "id": "bd0bed08",
   "metadata": {},
   "outputs": [
    {
     "data": {
      "text/plain": [
       "'dog fed older dog dixie senior version nutritionally dense meat primary ingredient without empty dixie weight easier maintain formula marvelous shiny coat'"
      ]
     },
     "execution_count": 32,
     "metadata": {},
     "output_type": "execute_result"
    }
   ],
   "source": [
    "preprocessed_review[2361]"
   ]
  },
  {
   "cell_type": "code",
   "execution_count": 33,
   "id": "142edb07",
   "metadata": {},
   "outputs": [
    {
     "data": {
      "text/plain": [
       "'major tea stash premium organic earl grey tea wonderful great flavor great price added benefit getting win win everyone highly'"
      ]
     },
     "execution_count": 33,
     "metadata": {},
     "output_type": "execute_result"
    }
   ],
   "source": [
    "preprocessed_review[9100]"
   ]
  },
  {
   "cell_type": "code",
   "execution_count": 34,
   "id": "ff966eca",
   "metadata": {},
   "outputs": [
    {
     "data": {
      "text/plain": [
       "'anything liver one best expensive weight well worth freeze drying process flavor nutrition'"
      ]
     },
     "execution_count": 34,
     "metadata": {},
     "output_type": "execute_result"
    }
   ],
   "source": [
    "preprocessed_review[1631]"
   ]
  },
  {
   "cell_type": "markdown",
   "id": "5c34ef35",
   "metadata": {},
   "source": [
    "### Feature Extraction"
   ]
  },
  {
   "cell_type": "markdown",
   "id": "c9edf161",
   "metadata": {},
   "source": [
    "#### 1. Bag of Words"
   ]
  },
  {
   "cell_type": "code",
   "execution_count": 35,
   "id": "179757a4",
   "metadata": {},
   "outputs": [],
   "source": [
    "from sklearn.feature_extraction.text import CountVectorizer"
   ]
  },
  {
   "cell_type": "code",
   "execution_count": 36,
   "id": "4e5dca7a",
   "metadata": {},
   "outputs": [
    {
     "name": "stdout",
     "output_type": "stream",
     "text": [
      "Some Feature Names : ['aa', 'aback', 'abandon', 'abandoned', 'abb', 'abbey', 'abbreviation', 'abdomen', 'abdominal', 'abhor']\n",
      "**************************************************\n",
      "Type of Count Vectorizer : <class 'scipy.sparse.csr.csr_matrix'>\n",
      "The shape of BOW Vectorizer : (46058, 15329)\n",
      "The number of Unique Words : 15329\n"
     ]
    }
   ],
   "source": [
    "countvec = CountVectorizer()\n",
    "countvec.fit(preprocessed_review)\n",
    "print(\"Some Feature Names :\",countvec.get_feature_names()[:10])\n",
    "print('*'*50)\n",
    "bow_count = countvec.transform(preprocessed_review)\n",
    "print(\"Type of Count Vectorizer :\",type(bow_count))\n",
    "print('The shape of BOW Vectorizer :',bow_count.get_shape())\n",
    "print('The number of Unique Words :',bow_count.get_shape()[1])"
   ]
  },
  {
   "cell_type": "code",
   "execution_count": 37,
   "id": "4fe4a63d",
   "metadata": {},
   "outputs": [],
   "source": [
    "#joblib.dump(bow_count,'bow_word.pkl')\n",
    "bow_count = joblib.load('bow_word.pkl')"
   ]
  },
  {
   "cell_type": "code",
   "execution_count": 38,
   "id": "abbab9b0",
   "metadata": {},
   "outputs": [
    {
     "data": {
      "text/plain": [
       "<46058x15329 sparse matrix of type '<class 'numpy.int64'>'\n",
       "\twith 1208434 stored elements in Compressed Sparse Row format>"
      ]
     },
     "execution_count": 38,
     "metadata": {},
     "output_type": "execute_result"
    }
   ],
   "source": [
    "bow_count "
   ]
  },
  {
   "cell_type": "markdown",
   "id": "d6720d74",
   "metadata": {},
   "source": [
    "####  2. Bi-Grams N-Gram"
   ]
  },
  {
   "cell_type": "code",
   "execution_count": 39,
   "id": "ca72de5e",
   "metadata": {},
   "outputs": [
    {
     "name": "stdout",
     "output_type": "stream",
     "text": [
      "Type of Count Vectorizer: <class 'scipy.sparse.csr.csr_matrix'>\n",
      "The shape of Bi-Gram Vectorizer: (46058, 5000)\n",
      "The number of Unique Words include Unigram and Bigram: 5000\n",
      "********************\n",
      "Type of Count Vectorizer: <class 'scipy.sparse.csr.csr_matrix'>\n",
      "The shape of N-Gram Vectorizer: (46058, 5000)\n",
      "The number of Unique Words include Unigram,Bigram and Trigram: 5000\n"
     ]
    }
   ],
   "source": [
    "#Bi-Gram,Tri-Gram,N-Gram\n",
    "# The Removal of \"not\" or any negative words should be avoided in Stopwords while doing Ngram\n",
    "\n",
    "countvec_bigram = CountVectorizer(ngram_range=(1, 2), min_df=5,max_features = 5000)\n",
    "final_bigram = countvec_bigram.fit_transform(preprocessed_review)\n",
    "\n",
    "print(\"Type of Count Vectorizer:\", type(final_bigram))\n",
    "print('The shape of Bi-Gram Vectorizer:', final_bigram.get_shape())\n",
    "print('The number of Unique Words include Unigram and Bigram:', final_bigram.get_shape()[1])\n",
    "\n",
    "print('*' * 20)\n",
    "\n",
    "countvec_trigram = CountVectorizer(ngram_range=(1, 3), min_df=5,max_features = 5000)\n",
    "final_trigram = countvec_trigram.fit_transform(preprocessed_review)\n",
    "\n",
    "print(\"Type of Count Vectorizer:\", type(final_trigram))\n",
    "print('The shape of N-Gram Vectorizer:', final_trigram.get_shape())\n",
    "print('The number of Unique Words include Unigram,Bigram and Trigram:', final_trigram.get_shape()[1])\n",
    "\n"
   ]
  },
  {
   "cell_type": "code",
   "execution_count": 40,
   "id": "8239fb21",
   "metadata": {},
   "outputs": [],
   "source": [
    "#joblib.dump(bow_count,'final_bigram.pkl')\n",
    "final_bigram = joblib.load('final_bigram.pkl')\n",
    "#joblib.dump(bow_count,'final_trigram.pkl')\n",
    "final_trigram = joblib.load('final_trigram.pkl')"
   ]
  },
  {
   "cell_type": "markdown",
   "id": "98a4785c",
   "metadata": {},
   "source": [
    "#### TF-IDF Vectorizer"
   ]
  },
  {
   "cell_type": "code",
   "execution_count": 41,
   "id": "ac5c6778",
   "metadata": {},
   "outputs": [
    {
     "name": "stdout",
     "output_type": "stream",
     "text": [
      "Some of the Unique Words in Corpus: ['aa', 'aback', 'abandon', 'abandoned', 'abdominal', 'ability', 'ability buy', 'able', 'able add', 'able afford']\n",
      "********************\n",
      "Type of Count Vectorizer: <class 'scipy.sparse.csr.csr_matrix'>\n",
      "The shape of Tf-idfVectorizer: (46058, 50684)\n",
      "The number of Unique Word in Tf-idf Vectorizer: 50684\n"
     ]
    }
   ],
   "source": [
    "#TF-IDF Vectorizer\n",
    "tfidf = TfidfVectorizer(ngram_range = (1,2),min_df = 5)\n",
    "tfidf.fit(preprocessed_review)\n",
    "print(\"Some of the Unique Words in Corpus:\",tfidf.get_feature_names()[:10])\n",
    "tfidf_count = tfidf.transform(preprocessed_review)\n",
    "print('*' * 20)\n",
    "\n",
    "print(\"Type of Count Vectorizer:\", type(tfidf_count))\n",
    "print('The shape of Tf-idfVectorizer:', tfidf_count.get_shape())\n",
    "print('The number of Unique Word in Tf-idf Vectorizer:', tfidf_count.get_shape()[1])\n",
    "\n"
   ]
  },
  {
   "cell_type": "code",
   "execution_count": 42,
   "id": "0ae1c602",
   "metadata": {},
   "outputs": [],
   "source": [
    "#joblib.dump(bow_count,'tfidf_count.pkl')\n",
    "tfidf_count = joblib.load('tfidf_count.pkl')"
   ]
  },
  {
   "cell_type": "code",
   "execution_count": 87,
   "id": "67e3d8da",
   "metadata": {},
   "outputs": [
    {
     "data": {
      "text/html": [
       "<div>\n",
       "<style scoped>\n",
       "    .dataframe tbody tr th:only-of-type {\n",
       "        vertical-align: middle;\n",
       "    }\n",
       "\n",
       "    .dataframe tbody tr th {\n",
       "        vertical-align: top;\n",
       "    }\n",
       "\n",
       "    .dataframe thead th {\n",
       "        text-align: right;\n",
       "    }\n",
       "</style>\n",
       "<table border=\"1\" class=\"dataframe\">\n",
       "  <thead>\n",
       "    <tr style=\"text-align: right;\">\n",
       "      <th></th>\n",
       "      <th>Id</th>\n",
       "      <th>ProductId</th>\n",
       "      <th>UserId</th>\n",
       "      <th>ProfileName</th>\n",
       "      <th>HelpfulnessNumerator</th>\n",
       "      <th>HelpfulnessDenominator</th>\n",
       "      <th>Score</th>\n",
       "      <th>Time</th>\n",
       "      <th>Summary</th>\n",
       "      <th>Text</th>\n",
       "    </tr>\n",
       "  </thead>\n",
       "  <tbody>\n",
       "    <tr>\n",
       "      <th>22620</th>\n",
       "      <td>24750</td>\n",
       "      <td>2734888454</td>\n",
       "      <td>A13ISQV0U9GZIC</td>\n",
       "      <td>Sandikaye</td>\n",
       "      <td>1</td>\n",
       "      <td>1</td>\n",
       "      <td>0</td>\n",
       "      <td>1192060800</td>\n",
       "      <td>made in china</td>\n",
       "      <td>My dogs loves this chicken but its a product f...</td>\n",
       "    </tr>\n",
       "    <tr>\n",
       "      <th>22621</th>\n",
       "      <td>24751</td>\n",
       "      <td>2734888454</td>\n",
       "      <td>A1C298ITT645B6</td>\n",
       "      <td>Hugh G. Pritchard</td>\n",
       "      <td>0</td>\n",
       "      <td>0</td>\n",
       "      <td>1</td>\n",
       "      <td>1195948800</td>\n",
       "      <td>Dog Lover Delites</td>\n",
       "      <td>Our dogs just love them.  I saw them in a pet ...</td>\n",
       "    </tr>\n",
       "    <tr>\n",
       "      <th>2546</th>\n",
       "      <td>2774</td>\n",
       "      <td>B00002NCJC</td>\n",
       "      <td>A196AJHU9EASJN</td>\n",
       "      <td>Alex Chaffee</td>\n",
       "      <td>0</td>\n",
       "      <td>0</td>\n",
       "      <td>1</td>\n",
       "      <td>1282953600</td>\n",
       "      <td>thirty bucks?</td>\n",
       "      <td>Why is this $[...] when the same product is av...</td>\n",
       "    </tr>\n",
       "    <tr>\n",
       "      <th>2547</th>\n",
       "      <td>2775</td>\n",
       "      <td>B00002NCJC</td>\n",
       "      <td>A13RRPGE79XFFH</td>\n",
       "      <td>reader48</td>\n",
       "      <td>0</td>\n",
       "      <td>0</td>\n",
       "      <td>1</td>\n",
       "      <td>1281052800</td>\n",
       "      <td>Flies Begone</td>\n",
       "      <td>We have used the Victor fly bait for 3 seasons...</td>\n",
       "    </tr>\n",
       "    <tr>\n",
       "      <th>1145</th>\n",
       "      <td>1244</td>\n",
       "      <td>B00002Z754</td>\n",
       "      <td>A3B8RCEI0FXFI6</td>\n",
       "      <td>B G Chase</td>\n",
       "      <td>10</td>\n",
       "      <td>10</td>\n",
       "      <td>1</td>\n",
       "      <td>962236800</td>\n",
       "      <td>WOW Make your own 'slickers' !</td>\n",
       "      <td>I just received my shipment and could hardly w...</td>\n",
       "    </tr>\n",
       "  </tbody>\n",
       "</table>\n",
       "</div>"
      ],
      "text/plain": [
       "          Id   ProductId          UserId        ProfileName  \\\n",
       "22620  24750  2734888454  A13ISQV0U9GZIC          Sandikaye   \n",
       "22621  24751  2734888454  A1C298ITT645B6  Hugh G. Pritchard   \n",
       "2546    2774  B00002NCJC  A196AJHU9EASJN       Alex Chaffee   \n",
       "2547    2775  B00002NCJC  A13RRPGE79XFFH           reader48   \n",
       "1145    1244  B00002Z754  A3B8RCEI0FXFI6          B G Chase   \n",
       "\n",
       "       HelpfulnessNumerator  HelpfulnessDenominator  Score        Time  \\\n",
       "22620                     1                       1      0  1192060800   \n",
       "22621                     0                       0      1  1195948800   \n",
       "2546                      0                       0      1  1282953600   \n",
       "2547                      0                       0      1  1281052800   \n",
       "1145                     10                      10      1   962236800   \n",
       "\n",
       "                              Summary  \\\n",
       "22620                   made in china   \n",
       "22621               Dog Lover Delites   \n",
       "2546                    thirty bucks?   \n",
       "2547                     Flies Begone   \n",
       "1145   WOW Make your own 'slickers' !   \n",
       "\n",
       "                                                    Text  \n",
       "22620  My dogs loves this chicken but its a product f...  \n",
       "22621  Our dogs just love them.  I saw them in a pet ...  \n",
       "2546   Why is this $[...] when the same product is av...  \n",
       "2547   We have used the Victor fly bait for 3 seasons...  \n",
       "1145   I just received my shipment and could hardly w...  "
      ]
     },
     "execution_count": 87,
     "metadata": {},
     "output_type": "execute_result"
    }
   ],
   "source": [
    "final.head()"
   ]
  },
  {
   "cell_type": "markdown",
   "id": "9ff4d8cc",
   "metadata": {},
   "source": [
    "## Model Building"
   ]
  },
  {
   "cell_type": "code",
   "execution_count": 44,
   "id": "936c7b06",
   "metadata": {},
   "outputs": [],
   "source": [
    "from sklearn.model_selection import train_test_split,KFold\n",
    "from sklearn.preprocessing import StandardScaler\n",
    "from sklearn.model_selection import RandomizedSearchCV\n",
    "from sklearn.ensemble import RandomForestClassifier\n",
    "from sklearn.metrics import roc_auc_score,classification_report,confusion_matrix\n",
    "from sklearn import metrics\n",
    "from tqdm import tqdm\n",
    "\n",
    "rf = RandomForestClassifier(max_features = 'sqrt')\n"
   ]
  },
  {
   "cell_type": "code",
   "execution_count": 45,
   "id": "7139e527",
   "metadata": {},
   "outputs": [],
   "source": [
    "X = preprocessed_review\n",
    "y = np.array(final['Score'])\n",
    "X1,X_test,y1,y_test = train_test_split(X,y,test_size = 0.3,random_state = 101)\n",
    "X_train,X_cv,y_train,y_cv = train_test_split(X1,y1,test_size = 0.3,random_state = 101)"
   ]
  },
  {
   "cell_type": "code",
   "execution_count": 46,
   "id": "774f64ad",
   "metadata": {},
   "outputs": [
    {
     "data": {
      "text/plain": [
       "array([1, 1, 1, ..., 0, 1, 1], dtype=int64)"
      ]
     },
     "execution_count": 46,
     "metadata": {},
     "output_type": "execute_result"
    }
   ],
   "source": [
    "y_test"
   ]
  },
  {
   "cell_type": "markdown",
   "id": "708bcdba",
   "metadata": {},
   "source": [
    "### Random Forest on Bag of Words"
   ]
  },
  {
   "cell_type": "markdown",
   "id": "58c27eae",
   "metadata": {},
   "source": [
    "#### Converting The Training,Testing and Cross Val Data into Bag of Words"
   ]
  },
  {
   "cell_type": "code",
   "execution_count": 47,
   "id": "a4f681c9",
   "metadata": {},
   "outputs": [],
   "source": [
    "\n",
    "count_vec = CountVectorizer(min_df=10,max_features=5000)\n",
    "X_train_bow = count_vec.fit_transform(X_train)\n",
    "X_cv_bow = count_vec.transform(X_cv)\n",
    "X_test_bow = count_vec.transform(X_test)\n",
    "\n",
    "scaler = StandardScaler(with_mean = False)\n",
    "X_train_bow = scaler.fit_transform(X_train_bow)\n",
    "X_cv_bow  = scaler.transform(X_cv_bow)\n",
    "X_test_bow   = scaler.transform(X_test_bow)"
   ]
  },
  {
   "cell_type": "code",
   "execution_count": 48,
   "id": "0b1c9861",
   "metadata": {},
   "outputs": [
    {
     "data": {
      "text/plain": [
       "(22568, 3940)"
      ]
     },
     "execution_count": 48,
     "metadata": {},
     "output_type": "execute_result"
    }
   ],
   "source": [
    "X_train_bow.shape"
   ]
  },
  {
   "cell_type": "code",
   "execution_count": 49,
   "id": "f6d0fcd0",
   "metadata": {},
   "outputs": [],
   "source": [
    "estimators = [10,20,50,100,120]\n",
    "depth = [5,10,50,100,500,1000]"
   ]
  },
  {
   "cell_type": "code",
   "execution_count": 50,
   "id": "04f49f76",
   "metadata": {},
   "outputs": [
    {
     "name": "stdout",
     "output_type": "stream",
     "text": [
      "Fitting 5 folds for each of 10 candidates, totalling 50 fits\n"
     ]
    },
    {
     "data": {
      "text/plain": [
       "RandomizedSearchCV(cv=KFold(n_splits=5, random_state=None, shuffle=True),\n",
       "                   estimator=RandomForestClassifier(max_features='sqrt'),\n",
       "                   n_jobs=-1,\n",
       "                   param_distributions={'criterion': ['gini', 'entropy'],\n",
       "                                        'max_depth': [5, 10, 50, 100, 500,\n",
       "                                                      1000],\n",
       "                                        'n_estimators': [10, 20, 50, 100, 120]},\n",
       "                   scoring='roc_auc', verbose=2)"
      ]
     },
     "execution_count": 50,
     "metadata": {},
     "output_type": "execute_result"
    }
   ],
   "source": [
    "param_grids = {'n_estimators': estimators,'max_depth': depth,'criterion' : ['gini','entropy']}\n",
    "rscv = RandomizedSearchCV(\n",
    "    estimator=rf,\n",
    "    param_distributions=param_grids,\n",
    "    cv=KFold(n_splits=5, shuffle=True),  # Use KFold instead of StratifiedKFold\n",
    "    n_jobs=-1,\n",
    "    scoring='roc_auc',\n",
    "    verbose=2\n",
    ")\n",
    "rscv.fit(X_train_bow, y_train)"
   ]
  },
  {
   "cell_type": "code",
   "execution_count": 69,
   "id": "fb93544c",
   "metadata": {},
   "outputs": [
    {
     "data": {
      "text/plain": [
       "{'n_estimators': 100, 'max_depth': 500, 'criterion': 'entropy'}"
      ]
     },
     "execution_count": 69,
     "metadata": {},
     "output_type": "execute_result"
    }
   ],
   "source": [
    "rscv.best_params_"
   ]
  },
  {
   "cell_type": "code",
   "execution_count": 51,
   "id": "4ef91046",
   "metadata": {},
   "outputs": [
    {
     "data": {
      "text/plain": [
       "RandomForestClassifier(max_depth=500, max_features='sqrt', n_estimators=120,\n",
       "                       n_jobs=-1)"
      ]
     },
     "execution_count": 51,
     "metadata": {},
     "output_type": "execute_result"
    }
   ],
   "source": [
    "rf = RandomForestClassifier(n_estimators =120,max_depth = 500,max_features = 'sqrt',\n",
    "                           n_jobs = -1,criterion ='gini')\n",
    "rf.fit(X_train_bow,y_train)"
   ]
  },
  {
   "cell_type": "code",
   "execution_count": 52,
   "id": "0a0d57f4",
   "metadata": {},
   "outputs": [],
   "source": [
    "#As the Classification Report is unable to process.Therefore,\n",
    "X = []\n",
    "Y = []\n",
    "Z = []\n",
    "Zt =[]\n",
    "\n",
    "for es in estimators:\n",
    "    for d in depth :\n",
    "        rf = RandomForestClassifier(n_estimators = es ,max_depth = d,max_features = 'sqrt',\n",
    "                            n_jobs = -1)\n",
    "        rf.fit(X_train_bow,y_train)\n",
    "        pred = rf.predict_proba(X_cv_bow)[:,1]\n",
    "        predt = rf.predict_proba(X_train_bow)[:,1]\n",
    "        X.append(es)\n",
    "        Y.append(d)\n",
    "        Z.append(roc_auc_score(y_cv,pred))\n",
    "        Zt.append(roc_auc_score(y_train,predt))"
   ]
  },
  {
   "cell_type": "code",
   "execution_count": 54,
   "id": "c2d6ea86",
   "metadata": {},
   "outputs": [],
   "source": [
    "Rf_Heatmap_values = joblib.load('Rf_Heatmap_values_bow.pkl')"
   ]
  },
  {
   "cell_type": "code",
   "execution_count": 57,
   "id": "b227a39b",
   "metadata": {},
   "outputs": [],
   "source": [
    "Rf_Heatmap_values = {'X':X,'Y':Y,'Z':Z,'Zt':Zt}"
   ]
  },
  {
   "cell_type": "markdown",
   "id": "868f952d",
   "metadata": {},
   "source": [
    "### Heatmap for Cross Validation Data "
   ]
  },
  {
   "cell_type": "code",
   "execution_count": 58,
   "id": "10c78f16",
   "metadata": {},
   "outputs": [
    {
     "data": {
      "image/png": "[encoded data removed]",
      "text/plain": [
       "<Figure size 432x288 with 2 Axes>"
      ]
     },
     "metadata": {
      "needs_background": "light"
     },
     "output_type": "display_data"
    }
   ],
   "source": [
    "data_cv = pd.DataFrame({'n_estimators': X,'Depth':Y,'AUC':Z})\n",
    "data_pivoted_cv = data_cv.pivot('n_estimators','Depth','AUC')\n",
    "sns.heatmap(data_pivoted_cv,annot = True)\n",
    "plt.title(\"Cross Validation AUC Values\")\n",
    "plt.show()"
   ]
  },
  {
   "cell_type": "markdown",
   "id": "bf6e5fb1",
   "metadata": {},
   "source": [
    "### Heatmap for Cross Training Data "
   ]
  },
  {
   "cell_type": "code",
   "execution_count": 59,
   "id": "79cd21b9",
   "metadata": {},
   "outputs": [
    {
     "data": {
      "image/png": "[encoded data removed]",
      "text/plain": [
       "<Figure size 432x288 with 2 Axes>"
      ]
     },
     "metadata": {
      "needs_background": "light"
     },
     "output_type": "display_data"
    }
   ],
   "source": [
    "data_train = pd.DataFrame({'n_estimators': X,'Depth':Y,'AUC':Zt})\n",
    "data_pivoted_train = data_train.pivot('n_estimators','Depth','AUC')\n",
    "sns.heatmap(data_pivoted_train,annot = True)\n",
    "plt.title(\"Training Data AUC Values\")\n",
    "plt.show()"
   ]
  },
  {
   "cell_type": "markdown",
   "id": "b802f466",
   "metadata": {},
   "source": [
    "#### As model tends to overfit in estimator = 120 and max_depth = 1000,Therefore by trial and error the values are chosen"
   ]
  },
  {
   "cell_type": "code",
   "execution_count": 60,
   "id": "bb1224a5",
   "metadata": {},
   "outputs": [
    {
     "data": {
      "image/png": "[encoded data removed]",
      "text/plain": [
       "<Figure size 576x432 with 1 Axes>"
      ]
     },
     "metadata": {
      "needs_background": "light"
     },
     "output_type": "display_data"
    }
   ],
   "source": [
    "\n",
    "rf = RandomForestClassifier(n_estimators = 100,max_depth = 50,max_features = 'sqrt',\n",
    "                            n_jobs = -1,criterion ='gini')\n",
    "rf.fit(X_train_bow,y_train)\n",
    "y_pred_test = rf.predict_proba(X_test_bow)[:,1]\n",
    "y_pred_train = rf.predict_proba(X_train_bow)[:,1]\n",
    "fpr1,tpr1,threshold_test = metrics.roc_curve(y_test,y_pred_test)\n",
    "fpr2,tpr2,threshold_train = metrics.roc_curve(y_train,y_pred_train)\n",
    "plt.figure(figsize = (8,6))\n",
    "plt.plot(fpr1,tpr1,label = 'Test ROC,auc ='+str(roc_auc_score(y_test,y_pred_test)))\n",
    "plt.plot(fpr2,tpr2,label = 'Train ROC,auc ='+str(roc_auc_score(y_train,y_pred_train)))\n",
    "plt.title('ROC Curve for Random Forest BOW')\n",
    "plt.xlabel('TPR')\n",
    "plt.ylabel('FPR')\n",
    "plt.legend()\n",
    "plt.show()"
   ]
  },
  {
   "cell_type": "markdown",
   "id": "93d8889f",
   "metadata": {},
   "source": [
    "### Confusion Matrix For Training Data of Random Forest Bag of Words"
   ]
  },
  {
   "cell_type": "code",
   "execution_count": 68,
   "id": "00d0e69b",
   "metadata": {},
   "outputs": [
    {
     "data": {
      "image/png": "[encoded data removed]",
      "text/plain": [
       "<Figure size 432x288 with 2 Axes>"
      ]
     },
     "metadata": {
      "needs_background": "light"
     },
     "output_type": "display_data"
    }
   ],
   "source": [
    "pred_train = rf.predict(X_train_bow)\n",
    "con_mat_train = confusion_matrix(y_train,pred_train)\n",
    "class_label = ['Postive','Negative']\n",
    "con_data_train = pd.DataFrame(con_mat_train,index = class_label,columns = class_label)\n",
    "sns.heatmap(con_data_train,annot = True,fmt = 'd')\n",
    "plt.title('Confusion Matrix For Training Data')\n",
    "plt.xlabel('Predicted Label')\n",
    "plt.ylabel('True Label')\n",
    "plt.show()"
   ]
  },
  {
   "cell_type": "code",
   "execution_count": 69,
   "id": "4aef2495",
   "metadata": {},
   "outputs": [
    {
     "data": {
      "text/html": [
       "<div>\n",
       "<style scoped>\n",
       "    .dataframe tbody tr th:only-of-type {\n",
       "        vertical-align: middle;\n",
       "    }\n",
       "\n",
       "    .dataframe tbody tr th {\n",
       "        vertical-align: top;\n",
       "    }\n",
       "\n",
       "    .dataframe thead th {\n",
       "        text-align: right;\n",
       "    }\n",
       "</style>\n",
       "<table border=\"1\" class=\"dataframe\">\n",
       "  <thead>\n",
       "    <tr style=\"text-align: right;\">\n",
       "      <th></th>\n",
       "      <th>Postive</th>\n",
       "      <th>Negative</th>\n",
       "    </tr>\n",
       "  </thead>\n",
       "  <tbody>\n",
       "    <tr>\n",
       "      <th>Postive</th>\n",
       "      <td>2144</td>\n",
       "      <td>1583</td>\n",
       "    </tr>\n",
       "    <tr>\n",
       "      <th>Negative</th>\n",
       "      <td>0</td>\n",
       "      <td>18841</td>\n",
       "    </tr>\n",
       "  </tbody>\n",
       "</table>\n",
       "</div>"
      ],
      "text/plain": [
       "          Postive  Negative\n",
       "Postive      2144      1583\n",
       "Negative        0     18841"
      ]
     },
     "execution_count": 69,
     "metadata": {},
     "output_type": "execute_result"
    }
   ],
   "source": [
    "con_data_train"
   ]
  },
  {
   "cell_type": "markdown",
   "id": "a6693cbd",
   "metadata": {},
   "source": [
    "### Confusion Matrix For Test Data of Random Forest Bag of Words"
   ]
  },
  {
   "cell_type": "code",
   "execution_count": 70,
   "id": "25ae8fcb",
   "metadata": {},
   "outputs": [
    {
     "data": {
      "image/png": "[encoded data removed]",
      "text/plain": [
       "<Figure size 432x288 with 2 Axes>"
      ]
     },
     "metadata": {
      "needs_background": "light"
     },
     "output_type": "display_data"
    }
   ],
   "source": [
    "pred_test = rf.predict(X_test_bow)\n",
    "con_mat_test = confusion_matrix(y_test,pred_test)\n",
    "class_label = ['Postive','Negative']\n",
    "con_data_test = pd.DataFrame(con_mat_test,index = class_label,columns = class_label)\n",
    "sns.heatmap(con_data_test,annot = True,fmt = 'd')\n",
    "plt.title('Confusion Matrix For Test Data')\n",
    "plt.xlabel('Predicted Label')\n",
    "plt.ylabel('True Label')\n",
    "plt.show()"
   ]
  },
  {
   "cell_type": "code",
   "execution_count": 71,
   "id": "12b8d9db",
   "metadata": {},
   "outputs": [
    {
     "data": {
      "text/html": [
       "<div>\n",
       "<style scoped>\n",
       "    .dataframe tbody tr th:only-of-type {\n",
       "        vertical-align: middle;\n",
       "    }\n",
       "\n",
       "    .dataframe tbody tr th {\n",
       "        vertical-align: top;\n",
       "    }\n",
       "\n",
       "    .dataframe thead th {\n",
       "        text-align: right;\n",
       "    }\n",
       "</style>\n",
       "<table border=\"1\" class=\"dataframe\">\n",
       "  <thead>\n",
       "    <tr style=\"text-align: right;\">\n",
       "      <th></th>\n",
       "      <th>Postive</th>\n",
       "      <th>Negative</th>\n",
       "    </tr>\n",
       "  </thead>\n",
       "  <tbody>\n",
       "    <tr>\n",
       "      <th>Postive</th>\n",
       "      <td>408</td>\n",
       "      <td>1854</td>\n",
       "    </tr>\n",
       "    <tr>\n",
       "      <th>Negative</th>\n",
       "      <td>33</td>\n",
       "      <td>11523</td>\n",
       "    </tr>\n",
       "  </tbody>\n",
       "</table>\n",
       "</div>"
      ],
      "text/plain": [
       "          Postive  Negative\n",
       "Postive       408      1854\n",
       "Negative       33     11523"
      ]
     },
     "execution_count": 71,
     "metadata": {},
     "output_type": "execute_result"
    }
   ],
   "source": [
    "con_data_test"
   ]
  },
  {
   "cell_type": "code",
   "execution_count": 73,
   "id": "51360e95",
   "metadata": {},
   "outputs": [
    {
     "data": {
      "text/html": [
       "<div>\n",
       "<style scoped>\n",
       "    .dataframe tbody tr th:only-of-type {\n",
       "        vertical-align: middle;\n",
       "    }\n",
       "\n",
       "    .dataframe tbody tr th {\n",
       "        vertical-align: top;\n",
       "    }\n",
       "\n",
       "    .dataframe thead th {\n",
       "        text-align: right;\n",
       "    }\n",
       "</style>\n",
       "<table border=\"1\" class=\"dataframe\">\n",
       "  <thead>\n",
       "    <tr style=\"text-align: right;\">\n",
       "      <th></th>\n",
       "      <th>Postive</th>\n",
       "      <th>Negative</th>\n",
       "    </tr>\n",
       "  </thead>\n",
       "  <tbody>\n",
       "    <tr>\n",
       "      <th>Postive</th>\n",
       "      <td>324</td>\n",
       "      <td>1278</td>\n",
       "    </tr>\n",
       "    <tr>\n",
       "      <th>Negative</th>\n",
       "      <td>34</td>\n",
       "      <td>8036</td>\n",
       "    </tr>\n",
       "  </tbody>\n",
       "</table>\n",
       "</div>"
      ],
      "text/plain": [
       "          Postive  Negative\n",
       "Postive       324      1278\n",
       "Negative       34      8036"
      ]
     },
     "execution_count": 73,
     "metadata": {},
     "output_type": "execute_result"
    }
   ],
   "source": [
    "con_data_cv"
   ]
  },
  {
   "cell_type": "markdown",
   "id": "223197cc",
   "metadata": {},
   "source": [
    "## Random Forest Model with TFIDF Technique"
   ]
  },
  {
   "cell_type": "code",
   "execution_count": 70,
   "id": "9a1850af",
   "metadata": {},
   "outputs": [],
   "source": [
    "tfidf = TfidfVectorizer(ngram_range=(1, 2), min_df=5)\n",
    "X_train_tf = tfidf.fit_transform(X_train)\n",
    "X_cv_tf = tfidf.transform(X_cv)\n",
    "X_test_tf = tfidf.transform(X_test)\n",
    "\n",
    "scalar = StandardScaler(with_mean=False)\n",
    "X_train_tf = scalar.fit_transform(X_train_tf)\n",
    "X_test_tf= scalar.transform(X_test_tf)\n",
    "X_cv_tf=scalar.transform(X_cv_tf)\n"
   ]
  },
  {
   "cell_type": "code",
   "execution_count": 71,
   "id": "4d5cea14",
   "metadata": {},
   "outputs": [],
   "source": [
    "depth = [50,100,200,300,500,1000]\n",
    "estimators = [5,10,20,40,100,120,150]"
   ]
  },
  {
   "cell_type": "markdown",
   "id": "9e56a4eb",
   "metadata": {},
   "source": [
    "### Model Hyperparameter Tuning with RandomizedSearchCV"
   ]
  },
  {
   "cell_type": "code",
   "execution_count": 73,
   "id": "54438dad",
   "metadata": {},
   "outputs": [
    {
     "name": "stdout",
     "output_type": "stream",
     "text": [
      "Fitting 5 folds for each of 10 candidates, totalling 50 fits\n"
     ]
    },
    {
     "data": {
      "text/plain": [
       "RandomizedSearchCV(cv=KFold(n_splits=5, random_state=56, shuffle=True),\n",
       "                   estimator=RandomForestClassifier(max_depth=50,\n",
       "                                                    max_features='sqrt',\n",
       "                                                    n_jobs=-1),\n",
       "                   n_jobs=-1,\n",
       "                   param_distributions=[{'max_depth': [50, 100, 200, 300, 500,\n",
       "                                                       1000],\n",
       "                                         'n_estimators': [5, 10, 20, 40, 100,\n",
       "                                                          120, 150]}],\n",
       "                   verbose=3)"
      ]
     },
     "execution_count": 73,
     "metadata": {},
     "output_type": "execute_result"
    }
   ],
   "source": [
    "rf_tf = RandomForestClassifier(max_features='sqrt')\n",
    "param_grid_tf = [{'n_estimators': estimators,'max_depth' : depth}]\n",
    "\n",
    "rscv_tf = RandomizedSearchCV(estimator = rf,\n",
    "    param_distributions = param_grid_tf,\n",
    "    n_jobs = -1,verbose = 3,\n",
    "    cv = KFold(n_splits=5,random_state = 56,shuffle=True))\n",
    "rscv_tf.fit(X_train_tf,y_train)\n"
   ]
  },
  {
   "cell_type": "code",
   "execution_count": 74,
   "id": "cb30cbd8",
   "metadata": {},
   "outputs": [
    {
     "data": {
      "text/plain": [
       "{'n_estimators': 20, 'max_depth': 500}"
      ]
     },
     "execution_count": 74,
     "metadata": {},
     "output_type": "execute_result"
    }
   ],
   "source": [
    "rscv_tf.best_params_"
   ]
  },
  {
   "cell_type": "code",
   "execution_count": 75,
   "id": "c81780ab",
   "metadata": {},
   "outputs": [],
   "source": [
    "X = []\n",
    "Y = []\n",
    "Z = []\n",
    "Zt = []\n",
    "\n",
    "for es in estimators:\n",
    "    for d in depth :\n",
    "        rf = RandomForestClassifier(n_estimators = es ,max_depth = d,max_features = 'sqrt',\n",
    "                            n_jobs = -1)\n",
    "        rf.fit(X_train_bow,y_train)\n",
    "        pred = rf.predict_proba(X_cv_bow)[:,1]\n",
    "        predt = rf.predict_proba(X_train_bow)[:,1]\n",
    "        X.append(es)\n",
    "        Y.append(d)\n",
    "        Z.append(roc_auc_score(y_cv,pred))\n",
    "        Zt.append(roc_auc_score(y_train,predt))"
   ]
  },
  {
   "cell_type": "code",
   "execution_count": 77,
   "id": "6e02b395",
   "metadata": {},
   "outputs": [],
   "source": [
    "with open('Rf_Heatmap_values_tf.pkl','rb') as rf_tf:\n",
    "    data_heat_tf = pickle.load(rf_tf)"
   ]
  },
  {
   "cell_type": "code",
   "execution_count": 79,
   "id": "86830adc",
   "metadata": {},
   "outputs": [],
   "source": []
  },
  {
   "cell_type": "code",
   "execution_count": 78,
   "id": "8acd1b44",
   "metadata": {},
   "outputs": [],
   "source": [
    "X = data_heat_tf['X']\n",
    "Y = data_heat_tf['Y']\n",
    "Z = data_heat_tf['Z']\n",
    "Zt = data_heat_tf['Zt']"
   ]
  },
  {
   "cell_type": "markdown",
   "id": "7ab9a674",
   "metadata": {},
   "source": [
    "### Heatmap For Training Data of Random Forest TFIDF"
   ]
  },
  {
   "cell_type": "code",
   "execution_count": 80,
   "id": "2751d7c5",
   "metadata": {},
   "outputs": [
    {
     "data": {
      "image/png": "[encoded data removed]",
      "text/plain": [
       "<Figure size 432x288 with 2 Axes>"
      ]
     },
     "metadata": {
      "needs_background": "light"
     },
     "output_type": "display_data"
    }
   ],
   "source": [
    "data_tf = pd.DataFrame({'n_estimators': X,'Depth' :Y,'AUC': Z})\n",
    "data_pivot = data_tf.pivot('n_estimators','Depth','AUC')\n",
    "sns.heatmap(data_pivot,annot = True)\n",
    "plt.title('Heatmap For Training Data(TFIDF)')\n",
    "plt.show()"
   ]
  },
  {
   "cell_type": "markdown",
   "id": "58999d0d",
   "metadata": {},
   "source": [
    "### Heatmap For Cross Validation Data of Random Forest TFIDF"
   ]
  },
  {
   "cell_type": "code",
   "execution_count": 81,
   "id": "c25722e5",
   "metadata": {},
   "outputs": [
    {
     "data": {
      "image/png": "[encoded data removed]",
      "text/plain": [
       "<Figure size 432x288 with 2 Axes>"
      ]
     },
     "metadata": {
      "needs_background": "light"
     },
     "output_type": "display_data"
    }
   ],
   "source": [
    "data_tf = pd.DataFrame({'n_estimators': X,'Depth':Y,'AUC':Zt})\n",
    "data_pivot_tf = data_tf.pivot('n_estimators','Depth','AUC')\n",
    "sns.heatmap(data_pivot_tf,annot = True)\n",
    "plt.title('Heatmap For CV Data(TFIDF)')\n",
    "plt.show()"
   ]
  },
  {
   "cell_type": "markdown",
   "id": "15742b68",
   "metadata": {},
   "source": [
    "## ROC Curve for the Random Forest with TFIDF"
   ]
  },
  {
   "cell_type": "code",
   "execution_count": 82,
   "id": "64d0a7aa",
   "metadata": {},
   "outputs": [
    {
     "data": {
      "image/png": "[encoded data removed]",
      "text/plain": [
       "<Figure size 576x432 with 1 Axes>"
      ]
     },
     "metadata": {
      "needs_background": "light"
     },
     "output_type": "display_data"
    }
   ],
   "source": [
    "rf_tf = RandomForestClassifier(n_estimators = 120,max_depth = 50, max_features = 'sqrt',\n",
    "                            n_jobs = -1)\n",
    "rf_tf.fit(X_train_tf,y_train)\n",
    "\n",
    "y_pred_test = rf_tf.predict_proba(X_test_tf)[:,1]\n",
    "y_pred_train = rf_tf.predict_proba(X_train_tf)[:,1]\n",
    "\n",
    "fpr1,tpr1,threshold1 = metrics.roc_curve(y_test,y_pred_test)\n",
    "fpr2,tpr2,threshold2 = metrics.roc_curve(y_train,y_pred_train)\n",
    "plt.figure(figsize = (8,6))\n",
    "plt.plot(fpr1,tpr1,label = 'Test_ROC,auc' +str(roc_auc_score(y_test,y_pred_test)))\n",
    "plt.plot(fpr2,tpr2,label = 'Test_ROC,auc = ' +str(roc_auc_score(y_train,y_pred_train)))\n",
    "plt.title(\"AUC_ROC_SCORE of RF on TFIDF\")\n",
    "plt.xlabel('TPR')\n",
    "plt.ylabel('FPR')\n",
    "plt.legend()\n",
    "plt.show()"
   ]
  },
  {
   "cell_type": "code",
   "execution_count": 65,
   "id": "846dc9b1",
   "metadata": {},
   "outputs": [
    {
     "data": {
      "text/plain": [
       "array([1, 1, 0, ..., 0, 0, 0], dtype=int64)"
      ]
     },
     "execution_count": 65,
     "metadata": {},
     "output_type": "execute_result"
    }
   ],
   "source": [
    "y_train"
   ]
  },
  {
   "cell_type": "markdown",
   "id": "9dfe350f",
   "metadata": {},
   "source": [
    "### Confusion Matrix For Training Data of Random Forest TFIDF"
   ]
  },
  {
   "cell_type": "code",
   "execution_count": 83,
   "id": "c0d9bd99",
   "metadata": {},
   "outputs": [
    {
     "data": {
      "image/png": "[encoded data removed]",
      "text/plain": [
       "<Figure size 432x288 with 2 Axes>"
      ]
     },
     "metadata": {
      "needs_background": "light"
     },
     "output_type": "display_data"
    }
   ],
   "source": [
    "pred_train = rf_tf.predict(X_train_tf)\n",
    "con_mat_train = confusion_matrix(y_train,pred_train)\n",
    "label = ['Postive','Negative']\n",
    "con_mat_data = pd.DataFrame(con_mat_train,index = label,columns = label)\n",
    "sns.heatmap(con_mat_data,annot = True,fmt = 'd')\n",
    "plt.title('Confusion Matrix For TFIDF RF Training Data')\n",
    "plt.xlabel('True Label')\n",
    "plt.ylabel('Predicted Label')\n",
    "plt.show()"
   ]
  },
  {
   "cell_type": "markdown",
   "id": "ca44fb17",
   "metadata": {},
   "source": [
    "### Confusion Matrix For Training Data of Random Forest TFIDF"
   ]
  },
  {
   "cell_type": "code",
   "execution_count": 84,
   "id": "6d4aa512",
   "metadata": {
    "scrolled": true
   },
   "outputs": [
    {
     "data": {
      "image/png": "[encoded data removed]",
      "text/plain": [
       "<Figure size 432x288 with 2 Axes>"
      ]
     },
     "metadata": {
      "needs_background": "light"
     },
     "output_type": "display_data"
    }
   ],
   "source": [
    "pred_test = rf_tf.predict(X_test_tf)\n",
    "con_mat_test = confusion_matrix(y_test,pred_test)\n",
    "label = ['Postive','Negative']\n",
    "con_mat_data = pd.DataFrame(con_mat_test,index = label,columns = label)\n",
    "sns.heatmap(con_mat_data,annot = True,fmt = 'd')\n",
    "plt.title('Confusion Matrix For TFIDF RF Test Data')\n",
    "plt.xlabel('True Label')\n",
    "plt.ylabel('Predicted Label')\n",
    "plt.show()"
   ]
  },
  {
   "cell_type": "markdown",
   "id": "5c686314",
   "metadata": {},
   "source": [
    "# Logistic Regression"
   ]
  },
  {
   "cell_type": "markdown",
   "id": "c7d585da",
   "metadata": {},
   "source": [
    "### Applying Logistic Regression For BOW with L1 Penalty"
   ]
  },
  {
   "cell_type": "code",
   "execution_count": 88,
   "id": "721734ea",
   "metadata": {},
   "outputs": [],
   "source": [
    "#Inverse of regularization strength; must be a positive float. \n",
    "#Like in support vector machines,smaller values specify stronger regularization.\n",
    "C = [0.001,0.01,0.1,1,10,100]\n",
    "solver = ['liblinear','sag','saga']\n",
    "param_grid = {'solver':solver,'C':C}"
   ]
  },
  {
   "cell_type": "markdown",
   "id": "54f6a14f",
   "metadata": {},
   "source": [
    "### Hyperparameter Tuning with  RandomizedSearchCV on Logistic Regression"
   ]
  },
  {
   "cell_type": "code",
   "execution_count": 89,
   "id": "60eae3dc",
   "metadata": {},
   "outputs": [
    {
     "name": "stdout",
     "output_type": "stream",
     "text": [
      "Fitting 5 folds for each of 10 candidates, totalling 50 fits\n"
     ]
    },
    {
     "data": {
      "text/plain": [
       "RandomizedSearchCV(cv=KFold(n_splits=5, random_state=46, shuffle=True),\n",
       "                   estimator=LogisticRegression(penalty='l1'), n_jobs=-1,\n",
       "                   param_distributions={'C': [0.001, 0.01, 0.1, 1, 10, 100],\n",
       "                                        'solver': ['liblinear', 'sag', 'saga']},\n",
       "                   verbose=1)"
      ]
     },
     "execution_count": 89,
     "metadata": {},
     "output_type": "execute_result"
    }
   ],
   "source": [
    "from sklearn.linear_model import LogisticRegression\n",
    "lr = LogisticRegression(penalty = 'l1')\n",
    "rscv_bow = RandomizedSearchCV(estimator = lr,\n",
    "                              param_distributions = param_grid,\n",
    "                              cv = KFold(n_splits = 5,shuffle = True,random_state =46),\n",
    "                              n_jobs = -1,verbose = 1)\n",
    "rscv_bow.fit(X_train_bow,y_train)"
   ]
  },
  {
   "cell_type": "code",
   "execution_count": 90,
   "id": "fbb66a11",
   "metadata": {},
   "outputs": [
    {
     "data": {
      "text/plain": [
       "{'solver': 'saga', 'C': 0.1}"
      ]
     },
     "execution_count": 90,
     "metadata": {},
     "output_type": "execute_result"
    }
   ],
   "source": [
    "rscv_bow.best_params_"
   ]
  },
  {
   "cell_type": "code",
   "execution_count": 91,
   "id": "7751a347",
   "metadata": {},
   "outputs": [],
   "source": [
    "auc_train = []\n",
    "auc_cv = []\n",
    "for c in C:\n",
    "    lr = LogisticRegression(penalty = 'l1',C = c,solver = 'saga')\n",
    "    lr.fit(X_train_bow,y_train)\n",
    "    predtr = lr.predict_proba(X_train_bow)[:,1]\n",
    "    predcv = lr.predict_proba(X_cv_bow)[:,1]\n",
    "    auc_train.append(roc_auc_score(y_train,predtr))\n",
    "    auc_cv.append(roc_auc_score(y_cv,predcv))   "
   ]
  },
  {
   "cell_type": "code",
   "execution_count": null,
   "id": "9a85882f",
   "metadata": {},
   "outputs": [],
   "source": [
    "auc_cv"
   ]
  },
  {
   "cell_type": "markdown",
   "id": "68c69c2a",
   "metadata": {},
   "source": [
    "### AUC VS Hyperparamter"
   ]
  },
  {
   "cell_type": "code",
   "execution_count": 114,
   "id": "4bd63266",
   "metadata": {},
   "outputs": [
    {
     "data": {
      "image/png": "[encoded data removed]",
      "text/plain": [
       "<Figure size 432x288 with 1 Axes>"
      ]
     },
     "metadata": {
      "needs_background": "light"
     },
     "output_type": "display_data"
    },
    {
     "name": "stdout",
     "output_type": "stream",
     "text": [
      "optimal lambda for which auc is maximum :  9.0\n"
     ]
    }
   ],
   "source": [
    "import math\n",
    "\n",
    "#Optimal C will be where The AUC value is max.Fetching Value of C from where Auc Value is Max.\n",
    "optimal_c= C[auc_cv.index(max(auc_cv))]\n",
    "\n",
    "#Converting values of C into logarithm\n",
    "#1.Converting to the logarithmic scale can reduce the sensitivity of the model to minor changes in C.\n",
    "#2.The logarithmic scale allows you to explore both small and large values of C in a more evenly spaced manner.\n",
    "\n",
    "C=[math.log(x) for x in C]\n",
    "\n",
    "#Plotting the AUC Vs Hyperparamter \n",
    "fig = plt.figure()\n",
    "\n",
    "plt.plot(C, auc_train, label='AUC train')\n",
    "plt.plot(C, auc_cv, label='AUC CV')\n",
    "plt.title('AUC vs hyperparameter')\n",
    "plt.xlabel('C (1/lambda)')\n",
    "plt.ylabel('AUC')\n",
    "plt.legend()\n",
    "plt.show()\n",
    "print('optimal lambda for which auc is maximum : ',1//optimal_c)"
   ]
  },
  {
   "cell_type": "markdown",
   "id": "719b5d57",
   "metadata": {},
   "source": [
    "### Loading the LR model with Optimal_C found and Predicting Probabilities with Lasso Regularization"
   ]
  },
  {
   "cell_type": "code",
   "execution_count": 121,
   "id": "ad87ea67",
   "metadata": {},
   "outputs": [
    {
     "data": {
      "image/png": "[encoded data removed]",
      "text/plain": [
       "<Figure size 576x432 with 1 Axes>"
      ]
     },
     "metadata": {
      "needs_background": "light"
     },
     "output_type": "display_data"
    }
   ],
   "source": [
    "lr = LogisticRegression(penalty = 'l1',C = optimal_c,solver = 'saga')\n",
    "lr.fit(X_train_bow,y_train)\n",
    "pred = lr.predict_proba(X_test_bow)[:,1]\n",
    "predt = lr.predict_proba(X_train_bow)[:,1]\n",
    "fpr1,tpr1,threshold1 = metrics.roc_curve(y_test,pred)\n",
    "fpr2,tpr2,threshold2 = metrics.roc_curve(y_train,predt)\n",
    "\n",
    "#Plotting The ROC(Receiver Operating Characteristic) AUC Curve\n",
    "\n",
    "plt.figure(figsize = (8,6))\n",
    "plt.plot(fpr1,tpr1,label = 'Test ROC Curve,auc ='+ str(roc_auc_score(y_test,pred)))\n",
    "plt.plot(fpr2,tpr2,label = 'Train ROC Curve,auc ='+ str(roc_auc_score(y_train,predt)))\n",
    "plt.title('ROC For Logistic Regression for BOW')\n",
    "plt.xlabel('FPR')\n",
    "plt.ylabel('TPR')\n",
    "plt.legend()\n",
    "plt.show()"
   ]
  },
  {
   "cell_type": "code",
   "execution_count": null,
   "id": "e9955bda",
   "metadata": {},
   "outputs": [],
   "source": [
    "conf_mat = confusion_matrix(y_test, predic)\n",
    "class_label = [\"negative\", \"positive\"]\n",
    "df = pd.DataFrame(conf_mat, index = class_label, columns = class_label)\n",
    "sns.heatmap(df, annot = True,fmt=\"d\")\n",
    "plt.title(\"Confusion Matrix\")\n",
    "plt.xlabel(\"Predicted Label\")\n",
    "plt.ylabel(\"True Label\")\n",
    "plt.show()\n"
   ]
  },
  {
   "cell_type": "code",
   "execution_count": 132,
   "id": "ddf8bba2",
   "metadata": {},
   "outputs": [],
   "source": [
    "auc_train = []\n",
    "auc_cv = []\n",
    "for c in C:\n",
    "    lr = LogisticRegression(penalty = 'l2',C = c,solver = 'saga')\n",
    "    lr.fit(X_train_bow,y_train)\n",
    "    predtr = lr.predict_proba(X_train_bow)[:,1]\n",
    "    predcv = lr.predict_proba(X_cv_bow)[:,1]\n",
    "    auc_train.append(roc_auc_score(y_train,predtr))\n",
    "    auc_cv.append(roc_auc_score(y_cv,predcv))   "
   ]
  },
  {
   "cell_type": "code",
   "execution_count": 133,
   "id": "cff22b38",
   "metadata": {},
   "outputs": [
    {
     "data": {
      "image/png": "[encoded data removed]",
      "text/plain": [
       "<Figure size 432x288 with 1 Axes>"
      ]
     },
     "metadata": {
      "needs_background": "light"
     },
     "output_type": "display_data"
    },
    {
     "name": "stdout",
     "output_type": "stream",
     "text": [
      "optimal lambda for which auc is maximum :  1\n"
     ]
    }
   ],
   "source": [
    "import math\n",
    "\n",
    "#Optimal C will be where The AUC value is max.Fetching Value of C from where Auc Value is Max.\n",
    "optimal_c= C[auc_cv.index(max(auc_cv))]\n",
    "\n",
    "#Converting values of C into logarithm\n",
    "#1.Converting to the logarithmic scale can reduce the sensitivity of the model to minor changes in C.\n",
    "#2.The logarithmic scale allows you to explore both small and large values of C in a more evenly spaced manner.\n",
    "\n",
    "C_log=[math.log(x) for x in C]\n",
    "\n",
    "#Plotting the AUC Vs Hyperparamter \n",
    "fig = plt.figure()\n",
    "\n",
    "plt.plot(C_log, auc_train, label='AUC train')\n",
    "plt.plot(C_log, auc_cv, label='AUC CV')\n",
    "plt.title('AUC vs hyperparameter')\n",
    "plt.xlabel('C (1/lambda)')\n",
    "plt.ylabel('AUC')\n",
    "plt.legend()\n",
    "plt.show()\n",
    "print('optimal lambda for which auc is maximum : ',1//optimal_c)"
   ]
  },
  {
   "cell_type": "code",
   "execution_count": 134,
   "id": "ba3d6010",
   "metadata": {},
   "outputs": [
    {
     "data": {
      "image/png": "[encoded data removed]",
      "text/plain": [
       "<Figure size 576x432 with 1 Axes>"
      ]
     },
     "metadata": {
      "needs_background": "light"
     },
     "output_type": "display_data"
    }
   ],
   "source": [
    "# Loading the LR model with Optimal_C found and Predicting Probabilities with L2 Rigde Regularization\n",
    "\n",
    "lr = LogisticRegression(penalty = 'l2',C = optimal_c,solver = 'saga')\n",
    "lr.fit(X_train_bow,y_train)\n",
    "pred = lr.predict_proba(X_test_bow)[:,1]\n",
    "predt = lr.predict_proba(X_train_bow)[:,1]\n",
    "fpr1,tpr1,threshold1 = metrics.roc_curve(y_test,pred)\n",
    "fpr2,tpr2,threshold2 = metrics.roc_curve(y_train,predt)\n",
    "\n",
    "#Plotting The ROC(Receiver Operating Characteristic) AUC Curve\n",
    "\n",
    "plt.figure(figsize = (8,6))\n",
    "plt.plot(fpr1,tpr1,label = 'Test ROC Curve,auc ='+ str(roc_auc_score(y_test,pred)))\n",
    "plt.plot(fpr2,tpr2,label = 'Train ROC Curve,auc ='+ str(roc_auc_score(y_train,predt)))\n",
    "plt.title('ROC For Logistic Regression for BOW')\n",
    "plt.xlabel('FPR')\n",
    "plt.ylabel('TPR')\n",
    "plt.legend()\n",
    "plt.show()"
   ]
  },
  {
   "cell_type": "code",
   "execution_count": 127,
   "id": "6b64e81e",
   "metadata": {},
   "outputs": [],
   "source": [
    "#But there is not much difference between The ROC Score of L1 and L2."
   ]
  },
  {
   "cell_type": "code",
   "execution_count": 135,
   "id": "75703a1d",
   "metadata": {},
   "outputs": [],
   "source": [
    "#Inverse of regularization strength; must be a positive float. \n",
    "#Like in support vector machines,smaller values specify stronger regularization.\n",
    "C = [0.001,0.01,0.1,1,10,100]\n",
    "solver = ['liblinear','sag','saga']\n",
    "param_grid = {'solver':solver,'C':C}"
   ]
  },
  {
   "cell_type": "code",
   "execution_count": 137,
   "id": "4788c0ac",
   "metadata": {},
   "outputs": [],
   "source": [
    "auc_train = []\n",
    "auc_cv = []\n",
    "for c in C:\n",
    "    lr = LogisticRegression(penalty = 'elasticnet',C = c,solver = 'saga',l1_ratio = 0.5)\n",
    "    lr.fit(X_train_bow,y_train)\n",
    "    predtr = lr.predict_proba(X_train_bow)[:,1]\n",
    "    predcv = lr.predict_proba(X_cv_bow)[:,1]\n",
    "    auc_train.append(roc_auc_score(y_train,predtr))\n",
    "    auc_cv.append(roc_auc_score(y_cv,predcv))   "
   ]
  },
  {
   "cell_type": "code",
   "execution_count": 138,
   "id": "522a495e",
   "metadata": {},
   "outputs": [
    {
     "data": {
      "image/png": "[encoded data removed]",
      "text/plain": [
       "<Figure size 432x288 with 1 Axes>"
      ]
     },
     "metadata": {
      "needs_background": "light"
     },
     "output_type": "display_data"
    },
    {
     "name": "stdout",
     "output_type": "stream",
     "text": [
      "optimal lambda for which auc is maximum :  99.0\n"
     ]
    }
   ],
   "source": [
    "import math\n",
    "\n",
    "#Optimal C will be where The AUC value is max.Fetching Value of C from where Auc Value is Max.\n",
    "optimal_c= C[auc_cv.index(max(auc_cv))]\n",
    "\n",
    "#Converting values of C into logarithm\n",
    "#1.Converting to the logarithmic scale can reduce the sensitivity of the model to minor changes in C.\n",
    "#2.The logarithmic scale allows you to explore both small and large values of C in a more evenly spaced manner.\n",
    "\n",
    "C_log=[math.log(x) for x in C]\n",
    "\n",
    "#Plotting the AUC Vs Hyperparamter \n",
    "fig = plt.figure()\n",
    "\n",
    "plt.plot(C_log, auc_train, label='AUC train')\n",
    "plt.plot(C_log, auc_cv, label='AUC CV')\n",
    "plt.title('AUC vs hyperparameter')\n",
    "plt.xlabel('C (1/lambda)')\n",
    "plt.ylabel('AUC')\n",
    "plt.legend()\n",
    "plt.show()\n",
    "print('optimal lambda for which auc is maximum : ',1//optimal_c)"
   ]
  },
  {
   "cell_type": "code",
   "execution_count": 145,
   "id": "aaa52961",
   "metadata": {},
   "outputs": [
    {
     "data": {
      "image/png": "[encoded data removed]",
      "text/plain": [
       "<Figure size 576x432 with 1 Axes>"
      ]
     },
     "metadata": {
      "needs_background": "light"
     },
     "output_type": "display_data"
    }
   ],
   "source": [
    "# Loading the LR model with Optimal_C found and Predicting Probabilities with ElasticNet Regularization\n",
    "\n",
    "lr = LogisticRegression(penalty = 'elasticnet',C = c,solver = 'saga',l1_ratio = 0.5)\n",
    "lr.fit(X_train_bow,y_train)\n",
    "pred = lr.predict_proba(X_test_bow)[:,1]\n",
    "predt = lr.predict_proba(X_train_bow)[:,1]\n",
    "fpr1,tpr1,threshold1 = metrics.roc_curve(y_test,pred)\n",
    "fpr2,tpr2,threshold2 = metrics.roc_curve(y_train,predt)\n",
    "\n",
    "#Plotting The ROC(Receiver Operating Characteristic) AUC Curve\n",
    "\n",
    "plt.figure(figsize = (8,6))\n",
    "plt.plot(fpr1,tpr1,label = 'Test ROC Curve,auc ='+ str(round(roc_auc_score(y_test, pred), 3)))\n",
    "plt.plot(fpr2,tpr2,label = 'Train ROC Curve,auc ='+ str(round(roc_auc_score(y_train, predt), 3)))\n",
    "plt.title('ROC For Logistic Regression for BOW')\n",
    "plt.xlabel('FPR')\n",
    "plt.ylabel('TPR')\n",
    "plt.legend()\n",
    "plt.show()"
   ]
  },
  {
   "cell_type": "code",
   "execution_count": null,
   "id": "2f2fa4e0",
   "metadata": {},
   "outputs": [],
   "source": [
    "pred_test = rf_tf.predict(X_test_tf)\n",
    "con_mat_test = confusion_matrix(y_test,pred_test)\n",
    "label = ['Postive','Negative']\n",
    "con_mat_data = pd.DataFrame(con_mat_test,index = label,columns = label)\n",
    "sns.heatmap(con_mat_data,annot = True,fmt = 'd')\n",
    "plt.title('Confusion Matrix For Logistic Regression BOW Test Data')\n",
    "plt.xlabel('True Label')\n",
    "plt.ylabel('Predicted Label')\n",
    "plt.show()\n",
    "\n"
   ]
  },
  {
   "cell_type": "code",
   "execution_count": null,
   "id": "d7afb17d",
   "metadata": {},
   "outputs": [],
   "source": []
  },
  {
   "cell_type": "code",
   "execution_count": 164,
   "id": "994cb4f0",
   "metadata": {},
   "outputs": [
    {
     "name": "stdout",
     "output_type": "stream",
     "text": [
      "Top ten positive words:\n",
      "['great', 'love', 'best', 'good', 'delicious', 'excellent', 'perfect', 'nice', 'highly', 'wonderful', 'favorite', 'easy', 'smooth', 'tasty', 'find', 'snack', 'amazing', 'yummy', 'keep', 'thanks']\n",
      "\n",
      "Top ten negative words:\n",
      "['maybe', 'refund', 'money', 'cheap', 'guess', 'bland', 'threw', 'yuck', 'thought', 'would', 'return', 'weak', 'waste', 'awful', 'unfortunately', 'horrible', 'disappointing', 'terrible', 'disappointed', 'worst']\n"
     ]
    }
   ],
   "source": [
    "importance = lr.coef_[0] \n",
    "feature_names = count_vec.get_feature_names_out()\n",
    "features_importance = list(zip(feature_names, importance))\n",
    "top_features_importance = sorted(features_importance, key=lambda x: x[1], reverse=True)\n",
    "# Get the indices that sort the importance array in descending order\n",
    "top_10_indices = np.argsort(importance)[::-1][:10]\n",
    "\n",
    "top_n = 20\n",
    "top_positive_features = [feature for feature, importance in top_features_importance[:top_n] if importance > 0]\n",
    "top_negative_features = [feature for feature, importance in top_features_importance[-top_n:] if importance < 0]\n",
    "\n",
    "print(\"Top ten positive words:\")\n",
    "print(top_positive_features)\n",
    "print(\"\\nTop ten negative words:\")\n",
    "print(top_negative_features)"
   ]
  },
  {
   "cell_type": "code",
   "execution_count": null,
   "id": "50e1f6dc",
   "metadata": {},
   "outputs": [],
   "source": []
  },
  {
   "cell_type": "code",
   "execution_count": null,
   "id": "be6b8776",
   "metadata": {},
   "outputs": [],
   "source": []
  },
  {
   "cell_type": "code",
   "execution_count": null,
   "id": "30e6dec1",
   "metadata": {},
   "outputs": [],
   "source": []
  },
  {
   "cell_type": "code",
   "execution_count": null,
   "id": "11dabe59",
   "metadata": {},
   "outputs": [],
   "source": []
  }
 ],
 "metadata": {
  "kernelspec": {
   "display_name": "Python 3 (ipykernel)",
   "language": "python",
   "name": "python3"
  },
  "language_info": {
   "codemirror_mode": {
    "name": "ipython",
    "version": 3
   },
   "file_extension": ".py",
   "mimetype": "text/x-python",
   "name": "python",
   "nbconvert_exporter": "python",
   "pygments_lexer": "ipython3",
   "version": "3.9.12"
  }
 },
 "nbformat": 4,
 "nbformat_minor": 5
}
